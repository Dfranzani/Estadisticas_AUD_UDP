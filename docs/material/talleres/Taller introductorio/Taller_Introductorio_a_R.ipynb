{
  "nbformat": 4,
  "nbformat_minor": 0,
  "metadata": {
    "colab": {
      "provenance": []
    },
    "kernelspec": {
      "name": "ir",
      "display_name": "R"
    },
    "language_info": {
      "name": "R"
    },
    "gpuClass": "standard"
  },
  "cells": [
    {
      "cell_type": "markdown",
      "source": [
        "# Taller de introducción a R\n",
        "\n",
        "Este taller está diseñado para intruducir en lenguaje R a los y las estudiantes de distintas áreas, sin necesidad de un conocimiento previo de programación."
      ],
      "metadata": {
        "id": "P4_vewukfiBf"
      }
    },
    {
      "cell_type": "markdown",
      "source": [
        "## 1. Ambiente de trabajo\n",
        "\n",
        "R es un lenguaje de programación con uso orientado a estadística. Para hacer uso de R es necesario una plataforma de visualización, para lo cual existen diversas alternativas. Para efectos de este taller y de los posteriores, se hará uso de Google Colab (plataforma gratuita y online).\n",
        "\n",
        "## 2. Operaciones básicas\n",
        "\n",
        "La característica más básica de R es que puede ser usado como calculadora. Las operaciones básicas se pueden realizar mediante los símbolos tradicionales:\n",
        "\n",
        "\\* (multiplicación)\n",
        "\n",
        "\\- (resta)\n",
        "\n",
        "\\+ (suma)\n",
        "\n",
        "\\: (división)"
      ],
      "metadata": {
        "id": "lnnWIWjUhDIT"
      }
    },
    {
      "cell_type": "code",
      "source": [
        "\n",
        "valor=c(1,2,3)\n",
        "valor1=c(1,2,3)\n",
        "valor+valor1"
      ],
      "metadata": {
        "colab": {
          "base_uri": "https://localhost:8080/",
          "height": 34
        },
        "id": "2ozuAQzNtgJp",
        "outputId": "51aa0586-1571-4ee9-fb4c-00728181f0d5"
      },
      "execution_count": null,
      "outputs": [
        {
          "output_type": "display_data",
          "data": {
            "text/html": [
              "<style>\n",
              ".list-inline {list-style: none; margin:0; padding: 0}\n",
              ".list-inline>li {display: inline-block}\n",
              ".list-inline>li:not(:last-child)::after {content: \"\\00b7\"; padding: 0 .5ex}\n",
              "</style>\n",
              "<ol class=list-inline><li>2</li><li>4</li><li>6</li></ol>\n"
            ],
            "text/markdown": "1. 2\n2. 4\n3. 6\n\n\n",
            "text/latex": "\\begin{enumerate*}\n\\item 2\n\\item 4\n\\item 6\n\\end{enumerate*}\n",
            "text/plain": [
              "[1] 2 4 6"
            ]
          },
          "metadata": {}
        }
      ]
    },
    {
      "cell_type": "code",
      "execution_count": null,
      "metadata": {
        "id": "1ndvg1-AbE72",
        "colab": {
          "base_uri": "https://localhost:8080/",
          "height": 86
        },
        "outputId": "8c51f62a-3280-4933-e2e2-49d74edfe60e"
      },
      "outputs": [
        {
          "output_type": "display_data",
          "data": {
            "text/html": [
              "5.2"
            ],
            "text/markdown": "5.2",
            "text/latex": "5.2",
            "text/plain": [
              "[1] 5.2"
            ]
          },
          "metadata": {}
        },
        {
          "output_type": "display_data",
          "data": {
            "text/html": [
              "-5.1"
            ],
            "text/markdown": "-5.1",
            "text/latex": "-5.1",
            "text/plain": [
              "[1] -5.1"
            ]
          },
          "metadata": {}
        },
        {
          "output_type": "display_data",
          "data": {
            "text/html": [
              "0.3872"
            ],
            "text/markdown": "0.3872",
            "text/latex": "0.3872",
            "text/plain": [
              "[1] 0.3872"
            ]
          },
          "metadata": {}
        },
        {
          "output_type": "display_data",
          "data": {
            "text/html": [
              "20"
            ],
            "text/markdown": "20",
            "text/latex": "20",
            "text/plain": [
              "[1] 20"
            ]
          },
          "metadata": {}
        }
      ],
      "source": [
        "# Suma, resta, multiplicación y división de dos números cualquiera\n",
        "\n",
        "2.1 + 3.1\n",
        "\n",
        "4.1 - 9.2\n",
        "\n",
        "1.21 * 0.32\n",
        "\n",
        "100 / 5"
      ]
    },
    {
      "cell_type": "markdown",
      "source": [
        "## 3. Asignación de valores\n",
        "\n",
        "R considera operadores que permiten asignar valores a un objeto, es decir, \"guardar el número con un nombre\". Hay dos opciones, para esto, <- o =. Es importante que el nombre de la variable colo incluya carácteres alfa-numéricos y el punto (.). Los nombres no pueden incluir espacios en blanco o comenzar conun número."
      ],
      "metadata": {
        "id": "WwSbRNtlifHN"
      }
    },
    {
      "cell_type": "code",
      "source": [
        "# Guardamos el resultado de la siguiente suma en un objeto llamado \"valor\"\n",
        "valor = 2 + 3"
      ],
      "metadata": {
        "id": "lIyCnr8gjN9q"
      },
      "execution_count": null,
      "outputs": []
    },
    {
      "cell_type": "markdown",
      "source": [
        "El valor queda guardado en el objeto llamado valor, sin embargo, no se visualiza. Para visualizar el valor guardado, se debe escribir el nombre del objeto y ejecutar la celda."
      ],
      "metadata": {
        "id": "B_Sp8_TKjgUR"
      }
    },
    {
      "cell_type": "code",
      "source": [
        "valor"
      ],
      "metadata": {
        "colab": {
          "base_uri": "https://localhost:8080/",
          "height": 34
        },
        "id": "Ba0iG9K6jcDJ",
        "outputId": "75855e40-b6c5-44d5-c9ab-a1d0b72e6ca6"
      },
      "execution_count": null,
      "outputs": [
        {
          "output_type": "display_data",
          "data": {
            "text/html": [
              "5"
            ],
            "text/markdown": "5",
            "text/latex": "5",
            "text/plain": [
              "[1] 5"
            ]
          },
          "metadata": {}
        }
      ]
    },
    {
      "cell_type": "markdown",
      "source": [
        "También es posible ejecutar todo en una misma celda de código."
      ],
      "metadata": {
        "id": "V90DtVibj4-W"
      }
    },
    {
      "cell_type": "code",
      "source": [],
      "metadata": {
        "id": "-z2_NNEvuJaM"
      },
      "execution_count": null,
      "outputs": []
    },
    {
      "cell_type": "code",
      "source": [
        "# Si escribo otra varible llamada \"valor\", el resultado anterior se pierde\n",
        "valor = 3 + 4\n",
        "valor"
      ],
      "metadata": {
        "colab": {
          "base_uri": "https://localhost:8080/",
          "height": 34
        },
        "id": "sxzblU5Zj9ED",
        "outputId": "cf34ef59-04b0-4e1b-a7b7-183ff8935dbf"
      },
      "execution_count": null,
      "outputs": [
        {
          "output_type": "display_data",
          "data": {
            "text/html": [
              "7"
            ],
            "text/markdown": "7",
            "text/latex": "7",
            "text/plain": [
              "[1] 7"
            ]
          },
          "metadata": {}
        }
      ]
    },
    {
      "cell_type": "markdown",
      "source": [
        "También es posible guardar dos valores en objetos, y operarlos utilizando los nombres de los objetos."
      ],
      "metadata": {
        "id": "NjdEU6uulrf6"
      }
    },
    {
      "cell_type": "code",
      "source": [
        "x = 4\n",
        "y = -2.3\n",
        "x*y"
      ],
      "metadata": {
        "colab": {
          "base_uri": "https://localhost:8080/",
          "height": 34
        },
        "id": "h-skIk_5lyYM",
        "outputId": "031262df-e8ef-47d1-c560-e5d955df5c8b"
      },
      "execution_count": null,
      "outputs": [
        {
          "output_type": "display_data",
          "data": {
            "text/html": [
              "-9.2"
            ],
            "text/markdown": "-9.2",
            "text/latex": "-9.2",
            "text/plain": [
              "[1] -9.2"
            ]
          },
          "metadata": {}
        }
      ]
    },
    {
      "cell_type": "markdown",
      "source": [
        "Otras de las operaciones básicas en R se ejecutan de la siguiente manera. Algunos de estas requieren el uso de funciones de R, el argumento de dichas funciones es el número en cuestión."
      ],
      "metadata": {
        "id": "hTBBbEXSl9Ya"
      }
    },
    {
      "cell_type": "code",
      "source": [
        "x = 4\n",
        "\n",
        "# Pontencias\n",
        "x^2\n",
        "x^3\n",
        "\n",
        "# Raíz cuadrada\n",
        "sqrt(x) # Función de la raíz cuadrada\n",
        "\n",
        "# Logaritmo\n",
        "log(x) # Función de logaritmo\n",
        "\n",
        "# Valor absoluto\n",
        "y = -5\n",
        "abs(y) # Función de valor absoluto\n",
        "\n",
        "# Factoeial\n",
        "factorial(x) # Función de factorial"
      ],
      "metadata": {
        "colab": {
          "base_uri": "https://localhost:8080/",
          "height": 121
        },
        "id": "3uo9AYcKmCPF",
        "outputId": "b18229f4-d3d9-4ad2-f9f5-1d84308055b0"
      },
      "execution_count": null,
      "outputs": [
        {
          "output_type": "display_data",
          "data": {
            "text/html": [
              "16"
            ],
            "text/markdown": "16",
            "text/latex": "16",
            "text/plain": [
              "[1] 16"
            ]
          },
          "metadata": {}
        },
        {
          "output_type": "display_data",
          "data": {
            "text/html": [
              "64"
            ],
            "text/markdown": "64",
            "text/latex": "64",
            "text/plain": [
              "[1] 64"
            ]
          },
          "metadata": {}
        },
        {
          "output_type": "display_data",
          "data": {
            "text/html": [
              "2"
            ],
            "text/markdown": "2",
            "text/latex": "2",
            "text/plain": [
              "[1] 2"
            ]
          },
          "metadata": {}
        },
        {
          "output_type": "display_data",
          "data": {
            "text/html": [
              "1.38629436111989"
            ],
            "text/markdown": "1.38629436111989",
            "text/latex": "1.38629436111989",
            "text/plain": [
              "[1] 1.386294"
            ]
          },
          "metadata": {}
        },
        {
          "output_type": "display_data",
          "data": {
            "text/html": [
              "5"
            ],
            "text/markdown": "5",
            "text/latex": "5",
            "text/plain": [
              "[1] 5"
            ]
          },
          "metadata": {}
        },
        {
          "output_type": "display_data",
          "data": {
            "text/html": [
              "24"
            ],
            "text/markdown": "24",
            "text/latex": "24",
            "text/plain": [
              "[1] 24"
            ]
          },
          "metadata": {}
        }
      ]
    },
    {
      "cell_type": "markdown",
      "source": [
        "## 4. Tipos de datos\n",
        "\n",
        "Lo números no son los únicos tipos de datos que pueden ser asignado a objetos, además, hay varios tipos de objetos.\n",
        "\n",
        "Dentro de los tipos de datos que podemos guardar veremos dos:\n",
        "\n",
        "- Números\n",
        "- Caracteres: palabras o números entre comillas.\n",
        "- Faltante\n",
        "- Booleano: Tiene dos opciones, verdadero (1) o falso (0).\n"
      ],
      "metadata": {
        "id": "ixKXMaeXq21e"
      }
    },
    {
      "cell_type": "code",
      "source": [
        "# Número\n",
        "x = 2.1\n",
        "x"
      ],
      "metadata": {
        "colab": {
          "base_uri": "https://localhost:8080/",
          "height": 34
        },
        "id": "XxKgdYhXrSHz",
        "outputId": "6e640207-68ad-41d4-e831-bb54977a151d"
      },
      "execution_count": null,
      "outputs": [
        {
          "output_type": "display_data",
          "data": {
            "text/html": [
              "2.1"
            ],
            "text/markdown": "2.1",
            "text/latex": "2.1",
            "text/plain": [
              "[1] 2.1"
            ]
          },
          "metadata": {}
        }
      ]
    },
    {
      "cell_type": "code",
      "source": [
        "# Caracter\n",
        "y = \"Metallica\"\n",
        "y"
      ],
      "metadata": {
        "colab": {
          "base_uri": "https://localhost:8080/",
          "height": 34
        },
        "id": "FhHmWipXZp79",
        "outputId": "396884c5-43ee-47b0-a0a7-fa3ca5767a7b"
      },
      "execution_count": null,
      "outputs": [
        {
          "output_type": "display_data",
          "data": {
            "text/html": [
              "'Metallica'"
            ],
            "text/markdown": "'Metallica'",
            "text/latex": "'Metallica'",
            "text/plain": [
              "[1] \"Metallica\""
            ]
          },
          "metadata": {}
        }
      ]
    },
    {
      "cell_type": "code",
      "source": [
        "# Valor faltante\n",
        "z = NA\n",
        "z"
      ],
      "metadata": {
        "colab": {
          "base_uri": "https://localhost:8080/",
          "height": 34
        },
        "id": "EVwjmocSZqBr",
        "outputId": "c125037b-cf50-47cd-e355-bf57a131eae0"
      },
      "execution_count": null,
      "outputs": [
        {
          "output_type": "display_data",
          "data": {
            "text/html": [
              "&lt;NA&gt;"
            ],
            "text/markdown": "&lt;NA&gt;",
            "text/latex": "<NA>",
            "text/plain": [
              "[1] NA"
            ]
          },
          "metadata": {}
        }
      ]
    },
    {
      "cell_type": "code",
      "source": [
        "# Booleano\n",
        "w = TRUE # o FALSE\n",
        "w"
      ],
      "metadata": {
        "colab": {
          "base_uri": "https://localhost:8080/",
          "height": 34
        },
        "id": "HOtp0Fc3ZqIb",
        "outputId": "1fda0741-f219-495a-f514-c6edd4171d57"
      },
      "execution_count": null,
      "outputs": [
        {
          "output_type": "display_data",
          "data": {
            "text/html": [
              "TRUE"
            ],
            "text/markdown": "TRUE",
            "text/latex": "TRUE",
            "text/plain": [
              "[1] TRUE"
            ]
          },
          "metadata": {}
        }
      ]
    },
    {
      "cell_type": "markdown",
      "source": [
        "## 5. Tipos de objetos\n",
        "\n",
        "### 5.1 Vectores:\n",
        "  - El comando en R para elaborar un vector es 'c( )'.\n",
        "  - Corresponde a una secuencia de elementos de la misma naturaleza."
      ],
      "metadata": {
        "id": "dxnm-MI-roKY"
      }
    },
    {
      "cell_type": "code",
      "source": [
        "c(3,1,7)"
      ],
      "metadata": {
        "colab": {
          "base_uri": "https://localhost:8080/",
          "height": 34
        },
        "id": "mW05f2J9ab59",
        "outputId": "881e8cd0-2d3d-46e5-f699-e443175f999a"
      },
      "execution_count": null,
      "outputs": [
        {
          "output_type": "display_data",
          "data": {
            "text/html": [
              "<style>\n",
              ".list-inline {list-style: none; margin:0; padding: 0}\n",
              ".list-inline>li {display: inline-block}\n",
              ".list-inline>li:not(:last-child)::after {content: \"\\00b7\"; padding: 0 .5ex}\n",
              "</style>\n",
              "<ol class=list-inline><li>3</li><li>1</li><li>7</li></ol>\n"
            ],
            "text/markdown": "1. 3\n2. 1\n3. 7\n\n\n",
            "text/latex": "\\begin{enumerate*}\n\\item 3\n\\item 1\n\\item 7\n\\end{enumerate*}\n",
            "text/plain": [
              "[1] 3 1 7"
            ]
          },
          "metadata": {}
        }
      ]
    },
    {
      "cell_type": "code",
      "source": [
        "# Secuencia de números\n",
        "seq( # Comando de secuencia\n",
        "  from = 0, # Desde donde comienza la secuencia\n",
        "  to = 1, # Hasta donde llega la secuencia\n",
        "  by = 0.1 # Incremento de la secuencia\n",
        ")"
      ],
      "metadata": {
        "colab": {
          "base_uri": "https://localhost:8080/",
          "height": 34
        },
        "id": "pJvw1fd4ag92",
        "outputId": "a7802b92-ea65-43e2-ad0d-ef7bd4e41b67"
      },
      "execution_count": null,
      "outputs": [
        {
          "output_type": "display_data",
          "data": {
            "text/html": [
              "<style>\n",
              ".list-inline {list-style: none; margin:0; padding: 0}\n",
              ".list-inline>li {display: inline-block}\n",
              ".list-inline>li:not(:last-child)::after {content: \"\\00b7\"; padding: 0 .5ex}\n",
              "</style>\n",
              "<ol class=list-inline><li>0</li><li>0.1</li><li>0.2</li><li>0.3</li><li>0.4</li><li>0.5</li><li>0.6</li><li>0.7</li><li>0.8</li><li>0.9</li><li>1</li></ol>\n"
            ],
            "text/markdown": "1. 0\n2. 0.1\n3. 0.2\n4. 0.3\n5. 0.4\n6. 0.5\n7. 0.6\n8. 0.7\n9. 0.8\n10. 0.9\n11. 1\n\n\n",
            "text/latex": "\\begin{enumerate*}\n\\item 0\n\\item 0.1\n\\item 0.2\n\\item 0.3\n\\item 0.4\n\\item 0.5\n\\item 0.6\n\\item 0.7\n\\item 0.8\n\\item 0.9\n\\item 1\n\\end{enumerate*}\n",
            "text/plain": [
              " [1] 0.0 0.1 0.2 0.3 0.4 0.5 0.6 0.7 0.8 0.9 1.0"
            ]
          },
          "metadata": {}
        }
      ]
    },
    {
      "cell_type": "code",
      "source": [
        "# Secuencia de números\n",
        "seq(\n",
        "  from = 0, # Inicio de la secuencia\n",
        "  to = 20, # Fin de la secuencia\n",
        "  length = 5 # Cantidad de número que se deben generar entre el incio el final (inclusive)\n",
        ")"
      ],
      "metadata": {
        "id": "ic7nT9XQa6Lo",
        "colab": {
          "base_uri": "https://localhost:8080/",
          "height": 34
        },
        "outputId": "57a057ed-a510-4424-ed2e-cbe0fbbb4bab"
      },
      "execution_count": null,
      "outputs": [
        {
          "output_type": "display_data",
          "data": {
            "text/html": [
              "<style>\n",
              ".list-inline {list-style: none; margin:0; padding: 0}\n",
              ".list-inline>li {display: inline-block}\n",
              ".list-inline>li:not(:last-child)::after {content: \"\\00b7\"; padding: 0 .5ex}\n",
              "</style>\n",
              "<ol class=list-inline><li>0</li><li>5</li><li>10</li><li>15</li><li>20</li></ol>\n"
            ],
            "text/markdown": "1. 0\n2. 5\n3. 10\n4. 15\n5. 20\n\n\n",
            "text/latex": "\\begin{enumerate*}\n\\item 0\n\\item 5\n\\item 10\n\\item 15\n\\item 20\n\\end{enumerate*}\n",
            "text/plain": [
              "[1]  0  5 10 15 20"
            ]
          },
          "metadata": {}
        }
      ]
    },
    {
      "cell_type": "code",
      "source": [
        "# Otra opción es usar el comando ':'\n",
        "# Para generar un secuencia automática de 1 en 1\n",
        "2:10 # del 2 al 10\n",
        "-4:0 # del -4 al 0\n",
        "10:-2 #del 10 al -2"
      ],
      "metadata": {
        "colab": {
          "base_uri": "https://localhost:8080/",
          "height": 69
        },
        "id": "-C2i0T3-5Y6r",
        "outputId": "51632107-38b4-4f9d-aa5f-6d5b50a04d25"
      },
      "execution_count": null,
      "outputs": [
        {
          "output_type": "display_data",
          "data": {
            "text/html": [
              "<style>\n",
              ".list-inline {list-style: none; margin:0; padding: 0}\n",
              ".list-inline>li {display: inline-block}\n",
              ".list-inline>li:not(:last-child)::after {content: \"\\00b7\"; padding: 0 .5ex}\n",
              "</style>\n",
              "<ol class=list-inline><li>2</li><li>3</li><li>4</li><li>5</li><li>6</li><li>7</li><li>8</li><li>9</li><li>10</li></ol>\n"
            ],
            "text/markdown": "1. 2\n2. 3\n3. 4\n4. 5\n5. 6\n6. 7\n7. 8\n8. 9\n9. 10\n\n\n",
            "text/latex": "\\begin{enumerate*}\n\\item 2\n\\item 3\n\\item 4\n\\item 5\n\\item 6\n\\item 7\n\\item 8\n\\item 9\n\\item 10\n\\end{enumerate*}\n",
            "text/plain": [
              "[1]  2  3  4  5  6  7  8  9 10"
            ]
          },
          "metadata": {}
        },
        {
          "output_type": "display_data",
          "data": {
            "text/html": [
              "<style>\n",
              ".list-inline {list-style: none; margin:0; padding: 0}\n",
              ".list-inline>li {display: inline-block}\n",
              ".list-inline>li:not(:last-child)::after {content: \"\\00b7\"; padding: 0 .5ex}\n",
              "</style>\n",
              "<ol class=list-inline><li>-4</li><li>-3</li><li>-2</li><li>-1</li><li>0</li></ol>\n"
            ],
            "text/markdown": "1. -4\n2. -3\n3. -2\n4. -1\n5. 0\n\n\n",
            "text/latex": "\\begin{enumerate*}\n\\item -4\n\\item -3\n\\item -2\n\\item -1\n\\item 0\n\\end{enumerate*}\n",
            "text/plain": [
              "[1] -4 -3 -2 -1  0"
            ]
          },
          "metadata": {}
        },
        {
          "output_type": "display_data",
          "data": {
            "text/html": [
              "<style>\n",
              ".list-inline {list-style: none; margin:0; padding: 0}\n",
              ".list-inline>li {display: inline-block}\n",
              ".list-inline>li:not(:last-child)::after {content: \"\\00b7\"; padding: 0 .5ex}\n",
              "</style>\n",
              "<ol class=list-inline><li>10</li><li>9</li><li>8</li><li>7</li><li>6</li><li>5</li><li>4</li><li>3</li><li>2</li><li>1</li><li>0</li><li>-1</li><li>-2</li></ol>\n"
            ],
            "text/markdown": "1. 10\n2. 9\n3. 8\n4. 7\n5. 6\n6. 5\n7. 4\n8. 3\n9. 2\n10. 1\n11. 0\n12. -1\n13. -2\n\n\n",
            "text/latex": "\\begin{enumerate*}\n\\item 10\n\\item 9\n\\item 8\n\\item 7\n\\item 6\n\\item 5\n\\item 4\n\\item 3\n\\item 2\n\\item 1\n\\item 0\n\\item -1\n\\item -2\n\\end{enumerate*}\n",
            "text/plain": [
              " [1] 10  9  8  7  6  5  4  3  2  1  0 -1 -2"
            ]
          },
          "metadata": {}
        }
      ]
    },
    {
      "cell_type": "code",
      "source": [
        "# Podemos consultar una posición dentro de un vector\n",
        "# Generamos una secuencia de 12 números entre el 1 y el 10\n",
        "# Además, lo guardamos en un objeto\n",
        "\n",
        "ejemplo = seq(from = 1, to = 10, length = 12)\n",
        "\n",
        "# Consultamos directamente el valor que está en la tercera posición\n",
        "ejemplo[3]"
      ],
      "metadata": {
        "id": "JmfgcPmrbM_c",
        "colab": {
          "base_uri": "https://localhost:8080/",
          "height": 34
        },
        "outputId": "66edad19-faef-41a1-873f-0affa7545786"
      },
      "execution_count": null,
      "outputs": [
        {
          "output_type": "display_data",
          "data": {
            "text/html": [
              "2.63636363636364"
            ],
            "text/markdown": "2.63636363636364",
            "text/latex": "2.63636363636364",
            "text/plain": [
              "[1] 2.636364"
            ]
          },
          "metadata": {}
        }
      ]
    },
    {
      "cell_type": "code",
      "source": [
        "# Podemos consultar varias posiciones al mismo tiempo\n",
        "# La tercera y sexta posición en el vector\n",
        "ejemplo[c(3,6)]"
      ],
      "metadata": {
        "colab": {
          "base_uri": "https://localhost:8080/",
          "height": 34
        },
        "id": "13t5jEQpcOnN",
        "outputId": "13b1fd8f-f891-4ec4-fec3-33b5a115cc74"
      },
      "execution_count": null,
      "outputs": [
        {
          "output_type": "display_data",
          "data": {
            "text/html": [
              "<style>\n",
              ".list-inline {list-style: none; margin:0; padding: 0}\n",
              ".list-inline>li {display: inline-block}\n",
              ".list-inline>li:not(:last-child)::after {content: \"\\00b7\"; padding: 0 .5ex}\n",
              "</style>\n",
              "<ol class=list-inline><li>2.63636363636364</li><li>5.09090909090909</li></ol>\n"
            ],
            "text/markdown": "1. 2.63636363636364\n2. 5.09090909090909\n\n\n",
            "text/latex": "\\begin{enumerate*}\n\\item 2.63636363636364\n\\item 5.09090909090909\n\\end{enumerate*}\n",
            "text/plain": [
              "[1] 2.636364 5.090909"
            ]
          },
          "metadata": {}
        }
      ]
    },
    {
      "cell_type": "code",
      "source": [
        "# Obervemos el vector completo de la secuencia anterior\n",
        "ejemplo"
      ],
      "metadata": {
        "colab": {
          "base_uri": "https://localhost:8080/",
          "height": 34
        },
        "id": "b9iEZDtqb9Zy",
        "outputId": "14a5e24e-0eac-4762-a84b-caac088956f2"
      },
      "execution_count": null,
      "outputs": [
        {
          "output_type": "display_data",
          "data": {
            "text/html": [
              "<style>\n",
              ".list-inline {list-style: none; margin:0; padding: 0}\n",
              ".list-inline>li {display: inline-block}\n",
              ".list-inline>li:not(:last-child)::after {content: \"\\00b7\"; padding: 0 .5ex}\n",
              "</style>\n",
              "<ol class=list-inline><li>1</li><li>1.81818181818182</li><li>2.63636363636364</li><li>3.45454545454545</li><li>4.27272727272727</li><li>5.09090909090909</li><li>5.90909090909091</li><li>6.72727272727273</li><li>7.54545454545455</li><li>8.36363636363636</li><li>9.18181818181818</li><li>10</li></ol>\n"
            ],
            "text/markdown": "1. 1\n2. 1.81818181818182\n3. 2.63636363636364\n4. 3.45454545454545\n5. 4.27272727272727\n6. 5.09090909090909\n7. 5.90909090909091\n8. 6.72727272727273\n9. 7.54545454545455\n10. 8.36363636363636\n11. 9.18181818181818\n12. 10\n\n\n",
            "text/latex": "\\begin{enumerate*}\n\\item 1\n\\item 1.81818181818182\n\\item 2.63636363636364\n\\item 3.45454545454545\n\\item 4.27272727272727\n\\item 5.09090909090909\n\\item 5.90909090909091\n\\item 6.72727272727273\n\\item 7.54545454545455\n\\item 8.36363636363636\n\\item 9.18181818181818\n\\item 10\n\\end{enumerate*}\n",
            "text/plain": [
              " [1]  1.000000  1.818182  2.636364  3.454545  4.272727  5.090909  5.909091\n",
              " [8]  6.727273  7.545455  8.363636  9.181818 10.000000"
            ]
          },
          "metadata": {}
        }
      ]
    },
    {
      "cell_type": "code",
      "source": [
        "# Podemos eliminar un elemento utilizando la posición\n",
        "# Eliminamos el primer valor de la secuencia\n",
        "ejemplo[-1]"
      ],
      "metadata": {
        "colab": {
          "base_uri": "https://localhost:8080/",
          "height": 52
        },
        "id": "y7dgVMskcC5L",
        "outputId": "7e0fc5fa-63ec-49c9-93b4-fd2be6b6bcdc"
      },
      "execution_count": null,
      "outputs": [
        {
          "output_type": "display_data",
          "data": {
            "text/html": [
              "<style>\n",
              ".list-inline {list-style: none; margin:0; padding: 0}\n",
              ".list-inline>li {display: inline-block}\n",
              ".list-inline>li:not(:last-child)::after {content: \"\\00b7\"; padding: 0 .5ex}\n",
              "</style>\n",
              "<ol class=list-inline><li>1.81818181818182</li><li>2.63636363636364</li><li>3.45454545454545</li><li>4.27272727272727</li><li>5.09090909090909</li><li>5.90909090909091</li><li>6.72727272727273</li><li>7.54545454545455</li><li>8.36363636363636</li><li>9.18181818181818</li><li>10</li></ol>\n"
            ],
            "text/markdown": "1. 1.81818181818182\n2. 2.63636363636364\n3. 3.45454545454545\n4. 4.27272727272727\n5. 5.09090909090909\n6. 5.90909090909091\n7. 6.72727272727273\n8. 7.54545454545455\n9. 8.36363636363636\n10. 9.18181818181818\n11. 10\n\n\n",
            "text/latex": "\\begin{enumerate*}\n\\item 1.81818181818182\n\\item 2.63636363636364\n\\item 3.45454545454545\n\\item 4.27272727272727\n\\item 5.09090909090909\n\\item 5.90909090909091\n\\item 6.72727272727273\n\\item 7.54545454545455\n\\item 8.36363636363636\n\\item 9.18181818181818\n\\item 10\n\\end{enumerate*}\n",
            "text/plain": [
              " [1]  1.818182  2.636364  3.454545  4.272727  5.090909  5.909091  6.727273\n",
              " [8]  7.545455  8.363636  9.181818 10.000000"
            ]
          },
          "metadata": {}
        }
      ]
    },
    {
      "cell_type": "code",
      "source": [
        "# Podemos eliminar más de uno al mismo tiempo\n",
        "# El primer, quinto y sexto valor\n",
        "ejemplo[-c(1,5,6)]"
      ],
      "metadata": {
        "colab": {
          "base_uri": "https://localhost:8080/",
          "height": 34
        },
        "id": "tKZHqng-cMSe",
        "outputId": "630b94e8-1d74-4d8a-acf4-efcecff73d75"
      },
      "execution_count": null,
      "outputs": [
        {
          "output_type": "display_data",
          "data": {
            "text/html": [
              "<style>\n",
              ".list-inline {list-style: none; margin:0; padding: 0}\n",
              ".list-inline>li {display: inline-block}\n",
              ".list-inline>li:not(:last-child)::after {content: \"\\00b7\"; padding: 0 .5ex}\n",
              "</style>\n",
              "<ol class=list-inline><li>1.81818181818182</li><li>2.63636363636364</li><li>3.45454545454545</li><li>5.90909090909091</li><li>6.72727272727273</li><li>7.54545454545455</li><li>8.36363636363636</li><li>9.18181818181818</li><li>10</li></ol>\n"
            ],
            "text/markdown": "1. 1.81818181818182\n2. 2.63636363636364\n3. 3.45454545454545\n4. 5.90909090909091\n5. 6.72727272727273\n6. 7.54545454545455\n7. 8.36363636363636\n8. 9.18181818181818\n9. 10\n\n\n",
            "text/latex": "\\begin{enumerate*}\n\\item 1.81818181818182\n\\item 2.63636363636364\n\\item 3.45454545454545\n\\item 5.90909090909091\n\\item 6.72727272727273\n\\item 7.54545454545455\n\\item 8.36363636363636\n\\item 9.18181818181818\n\\item 10\n\\end{enumerate*}\n",
            "text/plain": [
              "[1]  1.818182  2.636364  3.454545  5.909091  6.727273  7.545455  8.363636\n",
              "[8]  9.181818 10.000000"
            ]
          },
          "metadata": {}
        }
      ]
    },
    {
      "cell_type": "code",
      "source": [
        "# También es posible generar repeticiones\n",
        "# Repetimos la palabra UDP 5 veces\n",
        "rep(\n",
        "  x = \"UDP\", # Número o caracter a repetir\n",
        "  times = 5 # Cantidad de repeticiones\n",
        ")"
      ],
      "metadata": {
        "colab": {
          "base_uri": "https://localhost:8080/",
          "height": 34
        },
        "id": "u11z5XqUfeKa",
        "outputId": "e65ebbd2-fb7d-4520-a8af-db2e7effe6a3"
      },
      "execution_count": null,
      "outputs": [
        {
          "output_type": "display_data",
          "data": {
            "text/html": [
              "<style>\n",
              ".list-inline {list-style: none; margin:0; padding: 0}\n",
              ".list-inline>li {display: inline-block}\n",
              ".list-inline>li:not(:last-child)::after {content: \"\\00b7\"; padding: 0 .5ex}\n",
              "</style>\n",
              "<ol class=list-inline><li>'UDP'</li><li>'UDP'</li><li>'UDP'</li><li>'UDP'</li><li>'UDP'</li></ol>\n"
            ],
            "text/markdown": "1. 'UDP'\n2. 'UDP'\n3. 'UDP'\n4. 'UDP'\n5. 'UDP'\n\n\n",
            "text/latex": "\\begin{enumerate*}\n\\item 'UDP'\n\\item 'UDP'\n\\item 'UDP'\n\\item 'UDP'\n\\item 'UDP'\n\\end{enumerate*}\n",
            "text/plain": [
              "[1] \"UDP\" \"UDP\" \"UDP\" \"UDP\" \"UDP\""
            ]
          },
          "metadata": {}
        }
      ]
    },
    {
      "cell_type": "code",
      "source": [
        "# Podemos generar repeticiones por grupo\n",
        "rep(\n",
        "  x = c(\"Hola\", \"Mundo\"), # Vector (de números o palabras) que voy a repetir\n",
        "  times = 2 # Cantidad de veces que se repite el vector completamente\n",
        ")"
      ],
      "metadata": {
        "colab": {
          "base_uri": "https://localhost:8080/",
          "height": 34
        },
        "id": "8EzkF6eagF7N",
        "outputId": "189286b9-8894-43a0-a55b-ab481e16fab3"
      },
      "execution_count": null,
      "outputs": [
        {
          "output_type": "display_data",
          "data": {
            "text/html": [
              "<style>\n",
              ".list-inline {list-style: none; margin:0; padding: 0}\n",
              ".list-inline>li {display: inline-block}\n",
              ".list-inline>li:not(:last-child)::after {content: \"\\00b7\"; padding: 0 .5ex}\n",
              "</style>\n",
              "<ol class=list-inline><li>'Hola'</li><li>'Mundo'</li><li>'Hola'</li><li>'Mundo'</li></ol>\n"
            ],
            "text/markdown": "1. 'Hola'\n2. 'Mundo'\n3. 'Hola'\n4. 'Mundo'\n\n\n",
            "text/latex": "\\begin{enumerate*}\n\\item 'Hola'\n\\item 'Mundo'\n\\item 'Hola'\n\\item 'Mundo'\n\\end{enumerate*}\n",
            "text/plain": [
              "[1] \"Hola\"  \"Mundo\" \"Hola\"  \"Mundo\""
            ]
          },
          "metadata": {}
        }
      ]
    },
    {
      "cell_type": "code",
      "source": [
        "# Podemos repetir cantidad de veces distintas los elementos del vector\n",
        "rep(\n",
        "  x = c(\"Hola\",\"Mundo\"), # Vector (de números o palabras) que voy a repetir\n",
        "  times = c(2,3) # El primer elemento del vector se repite 2 veces y el segundo 3.\n",
        ")"
      ],
      "metadata": {
        "colab": {
          "base_uri": "https://localhost:8080/",
          "height": 34
        },
        "id": "5dY-r_ergcaE",
        "outputId": "469b01c9-8f03-4a4e-e286-caf5e0bd3597"
      },
      "execution_count": null,
      "outputs": [
        {
          "output_type": "display_data",
          "data": {
            "text/html": [
              "<style>\n",
              ".list-inline {list-style: none; margin:0; padding: 0}\n",
              ".list-inline>li {display: inline-block}\n",
              ".list-inline>li:not(:last-child)::after {content: \"\\00b7\"; padding: 0 .5ex}\n",
              "</style>\n",
              "<ol class=list-inline><li>'Hola'</li><li>'Hola'</li><li>'Mundo'</li><li>'Mundo'</li><li>'Mundo'</li></ol>\n"
            ],
            "text/markdown": "1. 'Hola'\n2. 'Hola'\n3. 'Mundo'\n4. 'Mundo'\n5. 'Mundo'\n\n\n",
            "text/latex": "\\begin{enumerate*}\n\\item 'Hola'\n\\item 'Hola'\n\\item 'Mundo'\n\\item 'Mundo'\n\\item 'Mundo'\n\\end{enumerate*}\n",
            "text/plain": [
              "[1] \"Hola\"  \"Hola\"  \"Mundo\" \"Mundo\" \"Mundo\""
            ]
          },
          "metadata": {}
        }
      ]
    },
    {
      "cell_type": "code",
      "source": [
        "# Los vectores también se pueden operar entre si\n",
        "# Lo importante es que tengan el mismo largo\n",
        "x = c(1,2,3,-4,4,6)\n",
        "y = c(1,4,2,0,0,-1)\n",
        "\n",
        "# Las operaciones se realizan por orden, es decir,\n",
        "# El primer elemento se suma con el primero, y así sucesivamente\n",
        "\n",
        "# Suma\n",
        "x + y"
      ],
      "metadata": {
        "colab": {
          "base_uri": "https://localhost:8080/",
          "height": 34
        },
        "id": "oTof5trMhD6b",
        "outputId": "2b18f69b-9652-4217-8600-893d597766eb"
      },
      "execution_count": null,
      "outputs": [
        {
          "output_type": "display_data",
          "data": {
            "text/html": [
              "<style>\n",
              ".list-inline {list-style: none; margin:0; padding: 0}\n",
              ".list-inline>li {display: inline-block}\n",
              ".list-inline>li:not(:last-child)::after {content: \"\\00b7\"; padding: 0 .5ex}\n",
              "</style>\n",
              "<ol class=list-inline><li>2</li><li>6</li><li>5</li><li>-4</li><li>4</li><li>5</li></ol>\n"
            ],
            "text/markdown": "1. 2\n2. 6\n3. 5\n4. -4\n5. 4\n6. 5\n\n\n",
            "text/latex": "\\begin{enumerate*}\n\\item 2\n\\item 6\n\\item 5\n\\item -4\n\\item 4\n\\item 5\n\\end{enumerate*}\n",
            "text/plain": [
              "[1]  2  6  5 -4  4  5"
            ]
          },
          "metadata": {}
        }
      ]
    },
    {
      "cell_type": "code",
      "source": [
        "# Resta\n",
        "x - y"
      ],
      "metadata": {
        "colab": {
          "base_uri": "https://localhost:8080/",
          "height": 34
        },
        "id": "iV2b_bC4hZVk",
        "outputId": "dc23e283-3a0a-4ed5-fa45-4c148af87dd2"
      },
      "execution_count": null,
      "outputs": [
        {
          "output_type": "display_data",
          "data": {
            "text/html": [
              "<style>\n",
              ".list-inline {list-style: none; margin:0; padding: 0}\n",
              ".list-inline>li {display: inline-block}\n",
              ".list-inline>li:not(:last-child)::after {content: \"\\00b7\"; padding: 0 .5ex}\n",
              "</style>\n",
              "<ol class=list-inline><li>0</li><li>-2</li><li>1</li><li>-4</li><li>4</li><li>7</li></ol>\n"
            ],
            "text/markdown": "1. 0\n2. -2\n3. 1\n4. -4\n5. 4\n6. 7\n\n\n",
            "text/latex": "\\begin{enumerate*}\n\\item 0\n\\item -2\n\\item 1\n\\item -4\n\\item 4\n\\item 7\n\\end{enumerate*}\n",
            "text/plain": [
              "[1]  0 -2  1 -4  4  7"
            ]
          },
          "metadata": {}
        }
      ]
    },
    {
      "cell_type": "code",
      "source": [
        "y + 5 # A cada elemento de y le suma 5"
      ],
      "metadata": {
        "colab": {
          "base_uri": "https://localhost:8080/",
          "height": 34
        },
        "id": "B7gitkQNh3jj",
        "outputId": "70f34a7c-c619-4054-c35d-48a0730a19c5"
      },
      "execution_count": null,
      "outputs": [
        {
          "output_type": "display_data",
          "data": {
            "text/html": [
              "<style>\n",
              ".list-inline {list-style: none; margin:0; padding: 0}\n",
              ".list-inline>li {display: inline-block}\n",
              ".list-inline>li:not(:last-child)::after {content: \"\\00b7\"; padding: 0 .5ex}\n",
              "</style>\n",
              "<ol class=list-inline><li>6</li><li>9</li><li>7</li><li>5</li><li>5</li><li>4</li></ol>\n"
            ],
            "text/markdown": "1. 6\n2. 9\n3. 7\n4. 5\n5. 5\n6. 4\n\n\n",
            "text/latex": "\\begin{enumerate*}\n\\item 6\n\\item 9\n\\item 7\n\\item 5\n\\item 5\n\\item 4\n\\end{enumerate*}\n",
            "text/plain": [
              "[1] 6 9 7 5 5 4"
            ]
          },
          "metadata": {}
        }
      ]
    },
    {
      "cell_type": "code",
      "source": [
        "# Multiplicación\n",
        "x*y"
      ],
      "metadata": {
        "colab": {
          "base_uri": "https://localhost:8080/",
          "height": 34
        },
        "id": "PkQV3a82hZfK",
        "outputId": "1d3aa35f-3d61-424f-e52b-74b95e2fbe1a"
      },
      "execution_count": null,
      "outputs": [
        {
          "output_type": "display_data",
          "data": {
            "text/html": [
              "<style>\n",
              ".list-inline {list-style: none; margin:0; padding: 0}\n",
              ".list-inline>li {display: inline-block}\n",
              ".list-inline>li:not(:last-child)::after {content: \"\\00b7\"; padding: 0 .5ex}\n",
              "</style>\n",
              "<ol class=list-inline><li>1</li><li>8</li><li>6</li><li>0</li><li>0</li><li>-6</li></ol>\n"
            ],
            "text/markdown": "1. 1\n2. 8\n3. 6\n4. 0\n5. 0\n6. -6\n\n\n",
            "text/latex": "\\begin{enumerate*}\n\\item 1\n\\item 8\n\\item 6\n\\item 0\n\\item 0\n\\item -6\n\\end{enumerate*}\n",
            "text/plain": [
              "[1]  1  8  6  0  0 -6"
            ]
          },
          "metadata": {}
        }
      ]
    },
    {
      "cell_type": "code",
      "source": [
        "2*x # A todos los elementos de x los multiplica por 2"
      ],
      "metadata": {
        "colab": {
          "base_uri": "https://localhost:8080/",
          "height": 34
        },
        "id": "E3u9mff9h04s",
        "outputId": "2c730df0-1fd7-4e0d-b7b5-59abef2ee254"
      },
      "execution_count": null,
      "outputs": [
        {
          "output_type": "display_data",
          "data": {
            "text/html": [
              "<style>\n",
              ".list-inline {list-style: none; margin:0; padding: 0}\n",
              ".list-inline>li {display: inline-block}\n",
              ".list-inline>li:not(:last-child)::after {content: \"\\00b7\"; padding: 0 .5ex}\n",
              "</style>\n",
              "<ol class=list-inline><li>2</li><li>4</li><li>6</li><li>-8</li><li>8</li><li>12</li></ol>\n"
            ],
            "text/markdown": "1. 2\n2. 4\n3. 6\n4. -8\n5. 8\n6. 12\n\n\n",
            "text/latex": "\\begin{enumerate*}\n\\item 2\n\\item 4\n\\item 6\n\\item -8\n\\item 8\n\\item 12\n\\end{enumerate*}\n",
            "text/plain": [
              "[1]  2  4  6 -8  8 12"
            ]
          },
          "metadata": {}
        }
      ]
    },
    {
      "cell_type": "code",
      "source": [
        "# División\n",
        "y/x"
      ],
      "metadata": {
        "colab": {
          "base_uri": "https://localhost:8080/",
          "height": 34
        },
        "id": "QfBeiC1ihZtG",
        "outputId": "b834fa88-e849-43a8-e4f5-6da137c5c85b"
      },
      "execution_count": null,
      "outputs": [
        {
          "output_type": "display_data",
          "data": {
            "text/html": [
              "<style>\n",
              ".list-inline {list-style: none; margin:0; padding: 0}\n",
              ".list-inline>li {display: inline-block}\n",
              ".list-inline>li:not(:last-child)::after {content: \"\\00b7\"; padding: 0 .5ex}\n",
              "</style>\n",
              "<ol class=list-inline><li>1</li><li>2</li><li>0.666666666666667</li><li>0</li><li>0</li><li>-0.166666666666667</li></ol>\n"
            ],
            "text/markdown": "1. 1\n2. 2\n3. 0.666666666666667\n4. 0\n5. 0\n6. -0.166666666666667\n\n\n",
            "text/latex": "\\begin{enumerate*}\n\\item 1\n\\item 2\n\\item 0.666666666666667\n\\item 0\n\\item 0\n\\item -0.166666666666667\n\\end{enumerate*}\n",
            "text/plain": [
              "[1]  1.0000000  2.0000000  0.6666667  0.0000000  0.0000000 -0.1666667"
            ]
          },
          "metadata": {}
        }
      ]
    },
    {
      "cell_type": "code",
      "source": [
        "# Hay que tener cuidado al dividir, ya que algún denomiador puede ser cero,\n",
        "# lo cual, perturba los valores de la salida\n",
        "x/y"
      ],
      "metadata": {
        "colab": {
          "base_uri": "https://localhost:8080/",
          "height": 34
        },
        "id": "oHVD1raAhniq",
        "outputId": "19d76334-612d-4859-c2aa-87a35f5f75af"
      },
      "execution_count": null,
      "outputs": [
        {
          "output_type": "display_data",
          "data": {
            "text/html": [
              "<style>\n",
              ".list-inline {list-style: none; margin:0; padding: 0}\n",
              ".list-inline>li {display: inline-block}\n",
              ".list-inline>li:not(:last-child)::after {content: \"\\00b7\"; padding: 0 .5ex}\n",
              "</style>\n",
              "<ol class=list-inline><li>1</li><li>0.5</li><li>1.5</li><li>-Inf</li><li>Inf</li><li>-6</li></ol>\n"
            ],
            "text/markdown": "1. 1\n2. 0.5\n3. 1.5\n4. -Inf\n5. Inf\n6. -6\n\n\n",
            "text/latex": "\\begin{enumerate*}\n\\item 1\n\\item 0.5\n\\item 1.5\n\\item -Inf\n\\item Inf\n\\item -6\n\\end{enumerate*}\n",
            "text/plain": [
              "[1]  1.0  0.5  1.5 -Inf  Inf -6.0"
            ]
          },
          "metadata": {}
        }
      ]
    },
    {
      "cell_type": "code",
      "source": [
        "y/3 # A cada elemento de y lo divide por 3"
      ],
      "metadata": {
        "colab": {
          "base_uri": "https://localhost:8080/",
          "height": 34
        },
        "id": "rKuDimxOiAJd",
        "outputId": "26978a5e-65ca-46d6-d197-b9171de785ee"
      },
      "execution_count": null,
      "outputs": [
        {
          "output_type": "display_data",
          "data": {
            "text/html": [
              "<style>\n",
              ".list-inline {list-style: none; margin:0; padding: 0}\n",
              ".list-inline>li {display: inline-block}\n",
              ".list-inline>li:not(:last-child)::after {content: \"\\00b7\"; padding: 0 .5ex}\n",
              "</style>\n",
              "<ol class=list-inline><li>0.333333333333333</li><li>1.33333333333333</li><li>0.666666666666667</li><li>0</li><li>0</li><li>-0.333333333333333</li></ol>\n"
            ],
            "text/markdown": "1. 0.333333333333333\n2. 1.33333333333333\n3. 0.666666666666667\n4. 0\n5. 0\n6. -0.333333333333333\n\n\n",
            "text/latex": "\\begin{enumerate*}\n\\item 0.333333333333333\n\\item 1.33333333333333\n\\item 0.666666666666667\n\\item 0\n\\item 0\n\\item -0.333333333333333\n\\end{enumerate*}\n",
            "text/plain": [
              "[1]  0.3333333  1.3333333  0.6666667  0.0000000  0.0000000 -0.3333333"
            ]
          },
          "metadata": {}
        }
      ]
    },
    {
      "cell_type": "code",
      "source": [
        "# Es posible encontrar el valor máximo y mínimo presente en un vector de la siguiente manera\n",
        "max(x) # Valor máximo en el vector x\n",
        "min(y) # Valor mínimo en el vector y"
      ],
      "metadata": {
        "colab": {
          "base_uri": "https://localhost:8080/",
          "height": 52
        },
        "id": "tbsU9Op73cHw",
        "outputId": "ba227885-e75e-40ac-b630-4d208727d9d1"
      },
      "execution_count": null,
      "outputs": [
        {
          "output_type": "display_data",
          "data": {
            "text/html": [
              "6"
            ],
            "text/markdown": "6",
            "text/latex": "6",
            "text/plain": [
              "[1] 6"
            ]
          },
          "metadata": {}
        },
        {
          "output_type": "display_data",
          "data": {
            "text/html": [
              "-1"
            ],
            "text/markdown": "-1",
            "text/latex": "-1",
            "text/plain": [
              "[1] -1"
            ]
          },
          "metadata": {}
        }
      ]
    },
    {
      "cell_type": "code",
      "source": [
        "# Es posible generar vectores de número aleatorios\n",
        "# Números reales\n",
        "numeros = runif(\n",
        "  n = 10, # Cantidad de números\n",
        "  min = 1, # Número mínimo a generar\n",
        "  max = 6 # Número máximo a generar\n",
        ")\n",
        "numeros"
      ],
      "metadata": {
        "colab": {
          "base_uri": "https://localhost:8080/",
          "height": 34
        },
        "id": "VETyMBQ23nsH",
        "outputId": "65f06ee8-7494-43bd-d41d-351c8e6a6063"
      },
      "execution_count": null,
      "outputs": [
        {
          "output_type": "display_data",
          "data": {
            "text/html": [
              "<style>\n",
              ".list-inline {list-style: none; margin:0; padding: 0}\n",
              ".list-inline>li {display: inline-block}\n",
              ".list-inline>li:not(:last-child)::after {content: \"\\00b7\"; padding: 0 .5ex}\n",
              "</style>\n",
              "<ol class=list-inline><li>4.551600582432</li><li>2.52870907215402</li><li>4.47026988863945</li><li>2.65228491299786</li><li>4.75544217065908</li><li>5.76142529281788</li><li>1.06369176902808</li><li>3.3910440702457</li><li>3.15917613822967</li><li>4.68789765285328</li></ol>\n"
            ],
            "text/markdown": "1. 4.551600582432\n2. 2.52870907215402\n3. 4.47026988863945\n4. 2.65228491299786\n5. 4.75544217065908\n6. 5.76142529281788\n7. 1.06369176902808\n8. 3.3910440702457\n9. 3.15917613822967\n10. 4.68789765285328\n\n\n",
            "text/latex": "\\begin{enumerate*}\n\\item 4.551600582432\n\\item 2.52870907215402\n\\item 4.47026988863945\n\\item 2.65228491299786\n\\item 4.75544217065908\n\\item 5.76142529281788\n\\item 1.06369176902808\n\\item 3.3910440702457\n\\item 3.15917613822967\n\\item 4.68789765285328\n\\end{enumerate*}\n",
            "text/plain": [
              " [1] 4.551601 2.528709 4.470270 2.652285 4.755442 5.761425 1.063692 3.391044\n",
              " [9] 3.159176 4.687898"
            ]
          },
          "metadata": {}
        }
      ]
    },
    {
      "cell_type": "code",
      "source": [
        "# Si deseamos que los número sean enteros podemos redondearlos conel comando 'round( )'\n",
        "round(\n",
        "  numeros, # Vector de números a redondear\n",
        "  digits = 0 # Cantidad de dígitos a redondear, en este caso 0 decimales\n",
        ")"
      ],
      "metadata": {
        "colab": {
          "base_uri": "https://localhost:8080/",
          "height": 34
        },
        "id": "rBgAfHeC4GRa",
        "outputId": "da12cdcf-161b-4c98-a7fd-22ffded49f51"
      },
      "execution_count": null,
      "outputs": [
        {
          "output_type": "display_data",
          "data": {
            "text/html": [
              "<style>\n",
              ".list-inline {list-style: none; margin:0; padding: 0}\n",
              ".list-inline>li {display: inline-block}\n",
              ".list-inline>li:not(:last-child)::after {content: \"\\00b7\"; padding: 0 .5ex}\n",
              "</style>\n",
              "<ol class=list-inline><li>5</li><li>3</li><li>4</li><li>3</li><li>5</li><li>6</li><li>1</li><li>3</li><li>3</li><li>5</li></ol>\n"
            ],
            "text/markdown": "1. 5\n2. 3\n3. 4\n4. 3\n5. 5\n6. 6\n7. 1\n8. 3\n9. 3\n10. 5\n\n\n",
            "text/latex": "\\begin{enumerate*}\n\\item 5\n\\item 3\n\\item 4\n\\item 3\n\\item 5\n\\item 6\n\\item 1\n\\item 3\n\\item 3\n\\item 5\n\\end{enumerate*}\n",
            "text/plain": [
              " [1] 5 3 4 3 5 6 1 3 3 5"
            ]
          },
          "metadata": {}
        }
      ]
    },
    {
      "cell_type": "code",
      "source": [
        "# También podemos generar números enteros de esta forma\n",
        "sample(\n",
        "  x =  2:9, # Intervalo de números que dese generar, del 2 al 9\n",
        "  size = 10, # Cantidad de números que deseo generar\n",
        "  replace = TRUE # Indica si los números a generar se pueden repetir, TRUE = si, FALSE = no\n",
        ")"
      ],
      "metadata": {
        "colab": {
          "base_uri": "https://localhost:8080/",
          "height": 34
        },
        "id": "qsPvkqKm4qjt",
        "outputId": "e99f8d1b-778d-4b20-b063-e4e1126b9098"
      },
      "execution_count": null,
      "outputs": [
        {
          "output_type": "display_data",
          "data": {
            "text/html": [
              "<style>\n",
              ".list-inline {list-style: none; margin:0; padding: 0}\n",
              ".list-inline>li {display: inline-block}\n",
              ".list-inline>li:not(:last-child)::after {content: \"\\00b7\"; padding: 0 .5ex}\n",
              "</style>\n",
              "<ol class=list-inline><li>4</li><li>2</li><li>7</li><li>7</li><li>3</li><li>4</li><li>5</li><li>9</li><li>2</li><li>3</li></ol>\n"
            ],
            "text/markdown": "1. 4\n2. 2\n3. 7\n4. 7\n5. 3\n6. 4\n7. 5\n8. 9\n9. 2\n10. 3\n\n\n",
            "text/latex": "\\begin{enumerate*}\n\\item 4\n\\item 2\n\\item 7\n\\item 7\n\\item 3\n\\item 4\n\\item 5\n\\item 9\n\\item 2\n\\item 3\n\\end{enumerate*}\n",
            "text/plain": [
              " [1] 4 2 7 7 3 4 5 9 2 3"
            ]
          },
          "metadata": {}
        }
      ]
    },
    {
      "cell_type": "code",
      "source": [
        "# Para calcular el largo de un vector podemos usar el siguiente comando\n",
        "length(x)"
      ],
      "metadata": {
        "colab": {
          "base_uri": "https://localhost:8080/",
          "height": 34
        },
        "id": "eE1yXuC_6gvF",
        "outputId": "39872994-1306-4d38-8cff-247c60dca540"
      },
      "execution_count": null,
      "outputs": [
        {
          "output_type": "display_data",
          "data": {
            "text/html": [
              "6"
            ],
            "text/markdown": "6",
            "text/latex": "6",
            "text/plain": [
              "[1] 6"
            ]
          },
          "metadata": {}
        }
      ]
    },
    {
      "cell_type": "markdown",
      "source": [
        "## Ejercicios\n",
        "\n",
        "1. Defina los siguientes vectores. Inténtelo hacerlo de diferentes formas.\n",
        "\n",
        "  - s = (5, 6, 7, 8)\n",
        "  - t = (8, 7, 6, 5)\n",
        "  - u = (1, 1,75, 2,5, 3,25, 4)\n",
        "  - v = (3, 3, 3, 3, 3, 3, 3, 3, 3, 2, 2)\n",
        "  - w = (1, 2, 3, 1, 2, 3, 1, 2, 3, 1, 2, 3, 1, 2, 3)\n",
        "  - x = (1, 2, 3, 4, 6, 8, 10, 12)\n",
        "  - y = (1, 2, 2, 3, 3, 3, 4, 4, 4, 4)\n",
        "  - z = (1, 3, 6, 10, 15, 21, 28, 36, 45, 55)\n",
        "\n",
        "2. De\n",
        "fina de 2 formas diferentes un vector que contenga todos los números pares del 1 al 100. Luego repita este proceso para obtener los números impares.\n",
        "\n",
        "3. Concatene los vectores s y t. Luego, determine la suma total de los números dentro del vector.\n"
      ],
      "metadata": {
        "id": "z2WlD_G02JPA"
      }
    },
    {
      "cell_type": "markdown",
      "source": [
        "### 5.2 Matrices:\n",
        "  - El comando en R para elaborar una matriz es 'matrix( )'.\n",
        "  - Corresponde a una tabla de dos dimensiones de elementos de la misma naturaleza (números o carácteres pero no ambos).\n"
      ],
      "metadata": {
        "id": "AInBgR_FaLKN"
      }
    },
    {
      "cell_type": "code",
      "source": [
        "# Generamos una matriz y la guardamos en un objeto llamado 'y'\n",
        "y = matrix(\n",
        "  1:12, # Números con los que rellenaremos la matriz\n",
        "  nrow = 4, # Cantidad de filas de la matriz\n",
        "  ncol = 3, # Cantidad de columnas de la matriz\n",
        "  byrow = TRUE # Indica si la matriz debe ser rellenada por filas (puede ser también por columnas)\n",
        ")\n",
        "y"
      ],
      "metadata": {
        "colab": {
          "base_uri": "https://localhost:8080/",
          "height": 177
        },
        "id": "3v3dchv6cr7d",
        "outputId": "58d2fb1c-606e-4f18-dced-cc75deb6e2ca"
      },
      "execution_count": null,
      "outputs": [
        {
          "output_type": "display_data",
          "data": {
            "text/html": [
              "<table class=\"dataframe\">\n",
              "<caption>A matrix: 4 × 3 of type int</caption>\n",
              "<tbody>\n",
              "\t<tr><td> 1</td><td> 2</td><td> 3</td></tr>\n",
              "\t<tr><td> 4</td><td> 5</td><td> 6</td></tr>\n",
              "\t<tr><td> 7</td><td> 8</td><td> 9</td></tr>\n",
              "\t<tr><td>10</td><td>11</td><td>12</td></tr>\n",
              "</tbody>\n",
              "</table>\n"
            ],
            "text/markdown": "\nA matrix: 4 × 3 of type int\n\n|  1 |  2 |  3 |\n|  4 |  5 |  6 |\n|  7 |  8 |  9 |\n| 10 | 11 | 12 |\n\n",
            "text/latex": "A matrix: 4 × 3 of type int\n\\begin{tabular}{lll}\n\t  1 &  2 &  3\\\\\n\t  4 &  5 &  6\\\\\n\t  7 &  8 &  9\\\\\n\t 10 & 11 & 12\\\\\n\\end{tabular}\n",
            "text/plain": [
              "     [,1] [,2] [,3]\n",
              "[1,]  1    2    3  \n",
              "[2,]  4    5    6  \n",
              "[3,]  7    8    9  \n",
              "[4,] 10   11   12  "
            ]
          },
          "metadata": {}
        }
      ]
    },
    {
      "cell_type": "code",
      "source": [
        "# Si cambiamos el argumento byrow a FALSE, veremos que la matriz resultante es diferente\n",
        "z = matrix(\n",
        "  1:12, # Números con los que rellenaremos la matriz\n",
        "  nrow = 4, # Cantidad de filas de la matriz\n",
        "  ncol = 3, # Cantidad de columnas de la matriz\n",
        "  byrow = TRUE # Indica si la matriz debe ser rellenada por filas (puede ser también por columnas)\n",
        ")\n",
        "z"
      ],
      "metadata": {
        "colab": {
          "base_uri": "https://localhost:8080/",
          "height": 177
        },
        "id": "L3pX3fL2dKMz",
        "outputId": "a229108e-1605-4de9-e230-67685e35350e"
      },
      "execution_count": null,
      "outputs": [
        {
          "output_type": "display_data",
          "data": {
            "text/html": [
              "<table class=\"dataframe\">\n",
              "<caption>A matrix: 4 × 3 of type int</caption>\n",
              "<tbody>\n",
              "\t<tr><td> 1</td><td> 2</td><td> 3</td></tr>\n",
              "\t<tr><td> 4</td><td> 5</td><td> 6</td></tr>\n",
              "\t<tr><td> 7</td><td> 8</td><td> 9</td></tr>\n",
              "\t<tr><td>10</td><td>11</td><td>12</td></tr>\n",
              "</tbody>\n",
              "</table>\n"
            ],
            "text/markdown": "\nA matrix: 4 × 3 of type int\n\n|  1 |  2 |  3 |\n|  4 |  5 |  6 |\n|  7 |  8 |  9 |\n| 10 | 11 | 12 |\n\n",
            "text/latex": "A matrix: 4 × 3 of type int\n\\begin{tabular}{lll}\n\t  1 &  2 &  3\\\\\n\t  4 &  5 &  6\\\\\n\t  7 &  8 &  9\\\\\n\t 10 & 11 & 12\\\\\n\\end{tabular}\n",
            "text/plain": [
              "     [,1] [,2] [,3]\n",
              "[1,]  1    2    3  \n",
              "[2,]  4    5    6  \n",
              "[3,]  7    8    9  \n",
              "[4,] 10   11   12  "
            ]
          },
          "metadata": {}
        }
      ]
    },
    {
      "cell_type": "code",
      "source": [
        "# Podemos extraer un valor de la matriz indicando la fila y la columna\n",
        "# Usaremos la matriz 'z'\n",
        "# Consultaremos el calor que está en la segunda fila y tercera columna\n",
        "z[2,3]\n",
        "# El primer número siempre corresponde a la fila y el segundo a la columna"
      ],
      "metadata": {
        "colab": {
          "base_uri": "https://localhost:8080/",
          "height": 34
        },
        "id": "dVMNhCy3dV2h",
        "outputId": "0b4bee63-59a5-41a7-eba0-397df0698fd3"
      },
      "execution_count": null,
      "outputs": [
        {
          "output_type": "display_data",
          "data": {
            "text/html": [
              "6"
            ],
            "text/markdown": "6",
            "text/latex": "6",
            "text/plain": [
              "[1] 6"
            ]
          },
          "metadata": {}
        }
      ]
    },
    {
      "cell_type": "code",
      "source": [
        "# Podemos consultar filas completas\n",
        "# Consultaremos la primer fila, para ello, en el número de columna no ingresamos nada\n",
        "z[1,]"
      ],
      "metadata": {
        "colab": {
          "base_uri": "https://localhost:8080/",
          "height": 34
        },
        "id": "IYR2QUMFdpdh",
        "outputId": "f176f3ab-8c45-4c07-9c0e-f6636b6746d6"
      },
      "execution_count": null,
      "outputs": [
        {
          "output_type": "display_data",
          "data": {
            "text/html": [
              "<style>\n",
              ".list-inline {list-style: none; margin:0; padding: 0}\n",
              ".list-inline>li {display: inline-block}\n",
              ".list-inline>li:not(:last-child)::after {content: \"\\00b7\"; padding: 0 .5ex}\n",
              "</style>\n",
              "<ol class=list-inline><li>1</li><li>2</li><li>3</li></ol>\n"
            ],
            "text/markdown": "1. 1\n2. 2\n3. 3\n\n\n",
            "text/latex": "\\begin{enumerate*}\n\\item 1\n\\item 2\n\\item 3\n\\end{enumerate*}\n",
            "text/plain": [
              "[1] 1 2 3"
            ]
          },
          "metadata": {}
        }
      ]
    },
    {
      "cell_type": "code",
      "source": [
        "# De igual manera, podemos consultar los valores de una columna completa\n",
        "# COnsultaremos los valores de la tercera columna\n",
        "z[,3]"
      ],
      "metadata": {
        "colab": {
          "base_uri": "https://localhost:8080/",
          "height": 34
        },
        "id": "jNijRk4Nd1aF",
        "outputId": "2d1f9b6a-bc19-4ad0-f8e1-344254832283"
      },
      "execution_count": null,
      "outputs": [
        {
          "output_type": "display_data",
          "data": {
            "text/html": [
              "<style>\n",
              ".list-inline {list-style: none; margin:0; padding: 0}\n",
              ".list-inline>li {display: inline-block}\n",
              ".list-inline>li:not(:last-child)::after {content: \"\\00b7\"; padding: 0 .5ex}\n",
              "</style>\n",
              "<ol class=list-inline><li>3</li><li>6</li><li>9</li><li>12</li></ol>\n"
            ],
            "text/markdown": "1. 3\n2. 6\n3. 9\n4. 12\n\n\n",
            "text/latex": "\\begin{enumerate*}\n\\item 3\n\\item 6\n\\item 9\n\\item 12\n\\end{enumerate*}\n",
            "text/plain": [
              "[1]  3  6  9 12"
            ]
          },
          "metadata": {}
        }
      ]
    },
    {
      "cell_type": "code",
      "source": [
        "# Es posible generar matrices, \"pegando\" vectores\n",
        "# Es importante que los vectores tengan el mismo largo (cantidad de elementos)\n",
        "x = c(1,2,3,4)\n",
        "y = c(5,1,2,0)\n",
        "\n",
        "# Podemos pergar verticalmente\n",
        "cbind(x,y)"
      ],
      "metadata": {
        "colab": {
          "base_uri": "https://localhost:8080/",
          "height": 262
        },
        "id": "gJa_r1Cve9vk",
        "outputId": "a5a053ce-c169-4511-9746-c43074cb3976"
      },
      "execution_count": null,
      "outputs": [
        {
          "output_type": "display_data",
          "data": {
            "text/html": [
              "<table class=\"dataframe\">\n",
              "<caption>A matrix: 4 × 2 of type dbl</caption>\n",
              "<thead>\n",
              "\t<tr><th scope=col>x</th><th scope=col>y</th></tr>\n",
              "</thead>\n",
              "<tbody>\n",
              "\t<tr><td>1</td><td>5</td></tr>\n",
              "\t<tr><td>2</td><td>1</td></tr>\n",
              "\t<tr><td>3</td><td>2</td></tr>\n",
              "\t<tr><td>4</td><td>0</td></tr>\n",
              "</tbody>\n",
              "</table>\n"
            ],
            "text/markdown": "\nA matrix: 4 × 2 of type dbl\n\n| x | y |\n|---|---|\n| 1 | 5 |\n| 2 | 1 |\n| 3 | 2 |\n| 4 | 0 |\n\n",
            "text/latex": "A matrix: 4 × 2 of type dbl\n\\begin{tabular}{ll}\n x & y\\\\\n\\hline\n\t 1 & 5\\\\\n\t 2 & 1\\\\\n\t 3 & 2\\\\\n\t 4 & 0\\\\\n\\end{tabular}\n",
            "text/plain": [
              "     x y\n",
              "[1,] 1 5\n",
              "[2,] 2 1\n",
              "[3,] 3 2\n",
              "[4,] 4 0"
            ]
          },
          "metadata": {}
        }
      ]
    },
    {
      "cell_type": "code",
      "source": [
        "# U horizontalemente\n",
        "rbind(x,y)"
      ],
      "metadata": {
        "colab": {
          "base_uri": "https://localhost:8080/",
          "height": 114
        },
        "id": "IAVz-mlDfWB9",
        "outputId": "76213d16-5581-4241-b40d-9201ba576a7c"
      },
      "execution_count": null,
      "outputs": [
        {
          "output_type": "display_data",
          "data": {
            "text/html": [
              "<table class=\"dataframe\">\n",
              "<caption>A matrix: 2 × 4 of type dbl</caption>\n",
              "<tbody>\n",
              "\t<tr><th scope=row>x</th><td>1</td><td>2</td><td>3</td><td>4</td></tr>\n",
              "\t<tr><th scope=row>y</th><td>5</td><td>1</td><td>2</td><td>0</td></tr>\n",
              "</tbody>\n",
              "</table>\n"
            ],
            "text/markdown": "\nA matrix: 2 × 4 of type dbl\n\n| x | 1 | 2 | 3 | 4 |\n| y | 5 | 1 | 2 | 0 |\n\n",
            "text/latex": "A matrix: 2 × 4 of type dbl\n\\begin{tabular}{r|llll}\n\tx & 1 & 2 & 3 & 4\\\\\n\ty & 5 & 1 & 2 & 0\\\\\n\\end{tabular}\n",
            "text/plain": [
              "  [,1] [,2] [,3] [,4]\n",
              "x 1    2    3    4   \n",
              "y 5    1    2    0   "
            ]
          },
          "metadata": {}
        }
      ]
    },
    {
      "cell_type": "markdown",
      "source": [
        "Las matrices se sumar, restar, mutiplicar y dividir término con término del mismo modo que los vectores.\n",
        "\n",
        "## Ejercicios\n",
        "\n",
        "1. Crear una matriz de 3 filas y 4 columnas con números aleatorios entre 1 y 10.\n",
        "\n",
        "2. Acceder al elemento de la segunda fila y tercera columna\n",
        "\n",
        "3. Genere tres vectores de 8 números aleatorios entr -2 y 4. Luego, únalos verticalmente para crear una matriz.\n",
        "\n",
        "4. De la matriz generada en la pregunta 3, ontenga una nueva matriz que no tenga la primera columna.\n",
        "\n",
        "4. De la matriz generada en la pregunta 3, ontenga una nueva matriz que no tenga la tercera columna. SUme esta matriz con la obtenida en la pregunta 4.\n"
      ],
      "metadata": {
        "id": "CosTpRR0in4_"
      }
    },
    {
      "cell_type": "markdown",
      "source": [
        "### 5.3 Factor:\n",
        "  - El comando en R para elaborar una factor es 'factor( )'.\n",
        "  - Es un vector de caracteres que poseen niveles de orden."
      ],
      "metadata": {
        "id": "dgPT14jzaLsk"
      }
    },
    {
      "cell_type": "code",
      "source": [
        "Toxicidad = factor(\n",
        "  x = c(\"Alta\", \"Baja\", \"Media\"), # Vector de caracteres\n",
        "  levels = c(c(\"Alta\", \"Media\", \"Baja\")) # Indicamos el orden de los caracteres según un criterio,\n",
        "               # por ejmeplo de más alta a más baja toxicidad.\n",
        "               # Para ello, deben ir en el orden deseado\n",
        ")\n",
        "Toxicidad\n",
        "\n",
        "# En la salida, se aprecia el vector de caracteres original, junto a una glosa que indaca los niveles con los\n",
        "# que se debe considerar.\n",
        "\n",
        "# La utilidad recae en posteriores aplicaciónes gráficas que serán vistas durante el curso"
      ],
      "metadata": {
        "colab": {
          "base_uri": "https://localhost:8080/",
          "height": 53
        },
        "id": "qIFjR4rOnlZs",
        "outputId": "144921e5-1177-4d13-e931-e3392b38e639"
      },
      "execution_count": null,
      "outputs": [
        {
          "output_type": "display_data",
          "data": {
            "text/html": [
              "<style>\n",
              ".list-inline {list-style: none; margin:0; padding: 0}\n",
              ".list-inline>li {display: inline-block}\n",
              ".list-inline>li:not(:last-child)::after {content: \"\\00b7\"; padding: 0 .5ex}\n",
              "</style>\n",
              "<ol class=list-inline><li>Alta</li><li>Baja</li><li>Media</li></ol>\n",
              "\n",
              "<details>\n",
              "\t<summary style=display:list-item;cursor:pointer>\n",
              "\t\t<strong>Levels</strong>:\n",
              "\t</summary>\n",
              "\t<style>\n",
              "\t.list-inline {list-style: none; margin:0; padding: 0}\n",
              "\t.list-inline>li {display: inline-block}\n",
              "\t.list-inline>li:not(:last-child)::after {content: \"\\00b7\"; padding: 0 .5ex}\n",
              "\t</style>\n",
              "\t<ol class=list-inline><li>'Alta'</li><li>'Media'</li><li>'Baja'</li></ol>\n",
              "</details>"
            ],
            "text/markdown": "1. Alta\n2. Baja\n3. Media\n\n\n\n**Levels**: 1. 'Alta'\n2. 'Media'\n3. 'Baja'\n\n\n",
            "text/latex": "\\begin{enumerate*}\n\\item Alta\n\\item Baja\n\\item Media\n\\end{enumerate*}\n\n\\emph{Levels}: \\begin{enumerate*}\n\\item 'Alta'\n\\item 'Media'\n\\item 'Baja'\n\\end{enumerate*}\n",
            "text/plain": [
              "[1] Alta  Baja  Media\n",
              "Levels: Alta Media Baja"
            ]
          },
          "metadata": {}
        }
      ]
    },
    {
      "cell_type": "markdown",
      "source": [
        "### 5.4 Data frame:\n",
        "  - El comando en R para elaborar un *data frame* es 'data.frame( )'.\n",
        "  - Corresponde a una tabla de dos dimensiones. Las columnas pueden ser de diferente naturaleza, pero deben tener el mismo largo.\n"
      ],
      "metadata": {
        "id": "EkMNx2AWaLVf"
      }
    },
    {
      "cell_type": "code",
      "source": [
        "# Tenemos un data.frame (base de datos) que\n",
        "# contiene el sexo, altura y peso\n",
        "# de 6 personas (cantidad de datos por cada vector)\n",
        "\n",
        "base = data.frame(Gender=c(\"M\",\"F\",\"M\",\"F\",\"M\",\"F\"),\n",
        "                  Height=c(1.83,1.76,1.82,1.60,1.90,1.66),\n",
        "                  Weight=c(67,58,66,48,75,55)\n",
        "                 )\n",
        "base"
      ],
      "metadata": {
        "colab": {
          "base_uri": "https://localhost:8080/",
          "height": 286
        },
        "id": "_qUQ6SI-t-ym",
        "outputId": "a7d47420-8782-49d8-bac3-809c80112de0"
      },
      "execution_count": null,
      "outputs": [
        {
          "output_type": "display_data",
          "data": {
            "text/html": [
              "<table class=\"dataframe\">\n",
              "<caption>A data.frame: 6 × 3</caption>\n",
              "<thead>\n",
              "\t<tr><th scope=col>Gender</th><th scope=col>Height</th><th scope=col>Weight</th></tr>\n",
              "\t<tr><th scope=col>&lt;chr&gt;</th><th scope=col>&lt;dbl&gt;</th><th scope=col>&lt;dbl&gt;</th></tr>\n",
              "</thead>\n",
              "<tbody>\n",
              "\t<tr><td>M</td><td>1.83</td><td>67</td></tr>\n",
              "\t<tr><td>F</td><td>1.76</td><td>58</td></tr>\n",
              "\t<tr><td>M</td><td>1.82</td><td>66</td></tr>\n",
              "\t<tr><td>F</td><td>1.60</td><td>48</td></tr>\n",
              "\t<tr><td>M</td><td>1.90</td><td>75</td></tr>\n",
              "\t<tr><td>F</td><td>1.66</td><td>55</td></tr>\n",
              "</tbody>\n",
              "</table>\n"
            ],
            "text/markdown": "\nA data.frame: 6 × 3\n\n| Gender &lt;chr&gt; | Height &lt;dbl&gt; | Weight &lt;dbl&gt; |\n|---|---|---|\n| M | 1.83 | 67 |\n| F | 1.76 | 58 |\n| M | 1.82 | 66 |\n| F | 1.60 | 48 |\n| M | 1.90 | 75 |\n| F | 1.66 | 55 |\n\n",
            "text/latex": "A data.frame: 6 × 3\n\\begin{tabular}{lll}\n Gender & Height & Weight\\\\\n <chr> & <dbl> & <dbl>\\\\\n\\hline\n\t M & 1.83 & 67\\\\\n\t F & 1.76 & 58\\\\\n\t M & 1.82 & 66\\\\\n\t F & 1.60 & 48\\\\\n\t M & 1.90 & 75\\\\\n\t F & 1.66 & 55\\\\\n\\end{tabular}\n",
            "text/plain": [
              "  Gender Height Weight\n",
              "1 M      1.83   67    \n",
              "2 F      1.76   58    \n",
              "3 M      1.82   66    \n",
              "4 F      1.60   48    \n",
              "5 M      1.90   75    \n",
              "6 F      1.66   55    "
            ]
          },
          "metadata": {}
        }
      ]
    },
    {
      "cell_type": "code",
      "source": [
        "# Podemos consultar las dimensiones del data.frame\n",
        "dim(base)\n",
        "# 6 filas y 3 columnas"
      ],
      "metadata": {
        "colab": {
          "base_uri": "https://localhost:8080/",
          "height": 34
        },
        "id": "H_m2DoUxt_B-",
        "outputId": "b7c1535f-4b42-40f4-9f31-ada01af6115a"
      },
      "execution_count": null,
      "outputs": [
        {
          "output_type": "display_data",
          "data": {
            "text/html": [
              "<style>\n",
              ".list-inline {list-style: none; margin:0; padding: 0}\n",
              ".list-inline>li {display: inline-block}\n",
              ".list-inline>li:not(:last-child)::after {content: \"\\00b7\"; padding: 0 .5ex}\n",
              "</style>\n",
              "<ol class=list-inline><li>6</li><li>3</li></ol>\n"
            ],
            "text/markdown": "1. 6\n2. 3\n\n\n",
            "text/latex": "\\begin{enumerate*}\n\\item 6\n\\item 3\n\\end{enumerate*}\n",
            "text/plain": [
              "[1] 6 3"
            ]
          },
          "metadata": {}
        }
      ]
    },
    {
      "cell_type": "code",
      "source": [
        "# Podemos extraer una de las columas, de igual modo que con las matrices\n",
        "# Aunque, es posible usar un sufijo luego del signo peso\n",
        "# Por ejemplo, queremos extraer la columna del peso\n",
        "\n",
        "base$Weight"
      ],
      "metadata": {
        "colab": {
          "base_uri": "https://localhost:8080/",
          "height": 34
        },
        "id": "cdmkhOPYwRNR",
        "outputId": "e5c7fd09-5c4e-45d4-f626-177561940e03"
      },
      "execution_count": null,
      "outputs": [
        {
          "output_type": "display_data",
          "data": {
            "text/html": [
              "<style>\n",
              ".list-inline {list-style: none; margin:0; padding: 0}\n",
              ".list-inline>li {display: inline-block}\n",
              ".list-inline>li:not(:last-child)::after {content: \"\\00b7\"; padding: 0 .5ex}\n",
              "</style>\n",
              "<ol class=list-inline><li>67</li><li>58</li><li>66</li><li>48</li><li>75</li><li>55</li></ol>\n"
            ],
            "text/markdown": "1. 67\n2. 58\n3. 66\n4. 48\n5. 75\n6. 55\n\n\n",
            "text/latex": "\\begin{enumerate*}\n\\item 67\n\\item 58\n\\item 66\n\\item 48\n\\item 75\n\\item 55\n\\end{enumerate*}\n",
            "text/plain": [
              "[1] 67 58 66 48 75 55"
            ]
          },
          "metadata": {}
        }
      ]
    },
    {
      "cell_type": "code",
      "source": [
        "# Es posible filtrar toda la tabla en base a un criterio de alguna de las columnas\n",
        "# Por ejemplo, ver solo la información de las mujeres\n",
        "# Para ello  debemos escribir las codiciones antes de la coma, tal como se muestra\n",
        "\n",
        "base[base$Gender == \"F\",]\n",
        "\n",
        "# La condición expresa que el sexo debe ser femenino, el cual recordemos es un caracter,\n",
        "# además, la igualdad se debe escribir con el signo '=='."
      ],
      "metadata": {
        "colab": {
          "base_uri": "https://localhost:8080/",
          "height": 192
        },
        "id": "kJFUe0GOt_ET",
        "outputId": "61e5e750-6ac2-49c6-f0e1-be0945260908"
      },
      "execution_count": null,
      "outputs": [
        {
          "output_type": "display_data",
          "data": {
            "text/html": [
              "<table class=\"dataframe\">\n",
              "<caption>A data.frame: 3 × 3</caption>\n",
              "<thead>\n",
              "\t<tr><th></th><th scope=col>Gender</th><th scope=col>Height</th><th scope=col>Weight</th></tr>\n",
              "\t<tr><th></th><th scope=col>&lt;chr&gt;</th><th scope=col>&lt;dbl&gt;</th><th scope=col>&lt;dbl&gt;</th></tr>\n",
              "</thead>\n",
              "<tbody>\n",
              "\t<tr><th scope=row>2</th><td>F</td><td>1.76</td><td>58</td></tr>\n",
              "\t<tr><th scope=row>4</th><td>F</td><td>1.60</td><td>48</td></tr>\n",
              "\t<tr><th scope=row>6</th><td>F</td><td>1.66</td><td>55</td></tr>\n",
              "</tbody>\n",
              "</table>\n"
            ],
            "text/markdown": "\nA data.frame: 3 × 3\n\n| <!--/--> | Gender &lt;chr&gt; | Height &lt;dbl&gt; | Weight &lt;dbl&gt; |\n|---|---|---|---|\n| 2 | F | 1.76 | 58 |\n| 4 | F | 1.60 | 48 |\n| 6 | F | 1.66 | 55 |\n\n",
            "text/latex": "A data.frame: 3 × 3\n\\begin{tabular}{r|lll}\n  & Gender & Height & Weight\\\\\n  & <chr> & <dbl> & <dbl>\\\\\n\\hline\n\t2 & F & 1.76 & 58\\\\\n\t4 & F & 1.60 & 48\\\\\n\t6 & F & 1.66 & 55\\\\\n\\end{tabular}\n",
            "text/plain": [
              "  Gender Height Weight\n",
              "2 F      1.76   58    \n",
              "4 F      1.60   48    \n",
              "6 F      1.66   55    "
            ]
          },
          "metadata": {}
        }
      ]
    },
    {
      "cell_type": "code",
      "source": [
        "# Podemos hacer un dopble filtro.\n",
        "# Podemos consultar la información de las mujeres, pero solo la altura.\n",
        "# Para ello ocupamos el segundo espacio, luego de la coman. Allí, se debe\n",
        "# ingresar la columna que desea extraer luedo de aplicado el filtro\n",
        "\n",
        "base[base$Gender == \"F\", \"Height\"]"
      ],
      "metadata": {
        "colab": {
          "base_uri": "https://localhost:8080/",
          "height": 34
        },
        "id": "opsMk_Dlt_MG",
        "outputId": "2e2a4cee-893e-47d6-f979-0129bdd3dad9"
      },
      "execution_count": null,
      "outputs": [
        {
          "output_type": "display_data",
          "data": {
            "text/html": [
              "<style>\n",
              ".list-inline {list-style: none; margin:0; padding: 0}\n",
              ".list-inline>li {display: inline-block}\n",
              ".list-inline>li:not(:last-child)::after {content: \"\\00b7\"; padding: 0 .5ex}\n",
              "</style>\n",
              "<ol class=list-inline><li>1.76</li><li>1.6</li><li>1.66</li></ol>\n"
            ],
            "text/markdown": "1. 1.76\n2. 1.6\n3. 1.66\n\n\n",
            "text/latex": "\\begin{enumerate*}\n\\item 1.76\n\\item 1.6\n\\item 1.66\n\\end{enumerate*}\n",
            "text/plain": [
              "[1] 1.76 1.60 1.66"
            ]
          },
          "metadata": {}
        }
      ]
    },
    {
      "cell_type": "code",
      "source": [
        "# Otro forma de hacerlo, es ingresando el número de la columna\n",
        "base[base$Gender == \"F\", 2]"
      ],
      "metadata": {
        "colab": {
          "base_uri": "https://localhost:8080/",
          "height": 34
        },
        "id": "FevNyfjXt_PA",
        "outputId": "0d6e5bb7-ea59-4b05-e10e-c8b05dc61bbf"
      },
      "execution_count": null,
      "outputs": [
        {
          "output_type": "display_data",
          "data": {
            "text/html": [
              "<style>\n",
              ".list-inline {list-style: none; margin:0; padding: 0}\n",
              ".list-inline>li {display: inline-block}\n",
              ".list-inline>li:not(:last-child)::after {content: \"\\00b7\"; padding: 0 .5ex}\n",
              "</style>\n",
              "<ol class=list-inline><li>1.76</li><li>1.6</li><li>1.66</li></ol>\n"
            ],
            "text/markdown": "1. 1.76\n2. 1.6\n3. 1.66\n\n\n",
            "text/latex": "\\begin{enumerate*}\n\\item 1.76\n\\item 1.6\n\\item 1.66\n\\end{enumerate*}\n",
            "text/plain": [
              "[1] 1.76 1.60 1.66"
            ]
          },
          "metadata": {}
        }
      ]
    },
    {
      "cell_type": "code",
      "source": [
        "# Aquí hay otros ejemplos de condiciones y consiciones múltiples\n",
        "\n",
        "# Información de solo mujeres y con altura mayor a 1.6\n",
        "base[base$Gender == \"F\" & base$Height > 1.6,]"
      ],
      "metadata": {
        "colab": {
          "base_uri": "https://localhost:8080/",
          "height": 161
        },
        "id": "7UL3BFyOt_Rl",
        "outputId": "186ddc30-a2d6-4b48-e89f-d69bb099d670"
      },
      "execution_count": null,
      "outputs": [
        {
          "output_type": "display_data",
          "data": {
            "text/html": [
              "<table class=\"dataframe\">\n",
              "<caption>A data.frame: 2 × 3</caption>\n",
              "<thead>\n",
              "\t<tr><th></th><th scope=col>Gender</th><th scope=col>Height</th><th scope=col>Weight</th></tr>\n",
              "\t<tr><th></th><th scope=col>&lt;chr&gt;</th><th scope=col>&lt;dbl&gt;</th><th scope=col>&lt;dbl&gt;</th></tr>\n",
              "</thead>\n",
              "<tbody>\n",
              "\t<tr><th scope=row>2</th><td>F</td><td>1.76</td><td>58</td></tr>\n",
              "\t<tr><th scope=row>6</th><td>F</td><td>1.66</td><td>55</td></tr>\n",
              "</tbody>\n",
              "</table>\n"
            ],
            "text/markdown": "\nA data.frame: 2 × 3\n\n| <!--/--> | Gender &lt;chr&gt; | Height &lt;dbl&gt; | Weight &lt;dbl&gt; |\n|---|---|---|---|\n| 2 | F | 1.76 | 58 |\n| 6 | F | 1.66 | 55 |\n\n",
            "text/latex": "A data.frame: 2 × 3\n\\begin{tabular}{r|lll}\n  & Gender & Height & Weight\\\\\n  & <chr> & <dbl> & <dbl>\\\\\n\\hline\n\t2 & F & 1.76 & 58\\\\\n\t6 & F & 1.66 & 55\\\\\n\\end{tabular}\n",
            "text/plain": [
              "  Gender Height Weight\n",
              "2 F      1.76   58    \n",
              "6 F      1.66   55    "
            ]
          },
          "metadata": {}
        }
      ]
    },
    {
      "cell_type": "code",
      "source": [
        "# Información de personas y con altura mayor a 1.82 o peso mayor a 55\n",
        "base[base$Height > 1.82 | base$Weight > 55,]"
      ],
      "metadata": {
        "colab": {
          "base_uri": "https://localhost:8080/",
          "height": 224
        },
        "id": "jVAYaqDmt_Ub",
        "outputId": "801eb479-e13b-44ec-8f1e-a840d60d5b26"
      },
      "execution_count": null,
      "outputs": [
        {
          "output_type": "display_data",
          "data": {
            "text/html": [
              "<table class=\"dataframe\">\n",
              "<caption>A data.frame: 4 × 3</caption>\n",
              "<thead>\n",
              "\t<tr><th></th><th scope=col>Gender</th><th scope=col>Height</th><th scope=col>Weight</th></tr>\n",
              "\t<tr><th></th><th scope=col>&lt;chr&gt;</th><th scope=col>&lt;dbl&gt;</th><th scope=col>&lt;dbl&gt;</th></tr>\n",
              "</thead>\n",
              "<tbody>\n",
              "\t<tr><th scope=row>1</th><td>M</td><td>1.83</td><td>67</td></tr>\n",
              "\t<tr><th scope=row>2</th><td>F</td><td>1.76</td><td>58</td></tr>\n",
              "\t<tr><th scope=row>3</th><td>M</td><td>1.82</td><td>66</td></tr>\n",
              "\t<tr><th scope=row>5</th><td>M</td><td>1.90</td><td>75</td></tr>\n",
              "</tbody>\n",
              "</table>\n"
            ],
            "text/markdown": "\nA data.frame: 4 × 3\n\n| <!--/--> | Gender &lt;chr&gt; | Height &lt;dbl&gt; | Weight &lt;dbl&gt; |\n|---|---|---|---|\n| 1 | M | 1.83 | 67 |\n| 2 | F | 1.76 | 58 |\n| 3 | M | 1.82 | 66 |\n| 5 | M | 1.90 | 75 |\n\n",
            "text/latex": "A data.frame: 4 × 3\n\\begin{tabular}{r|lll}\n  & Gender & Height & Weight\\\\\n  & <chr> & <dbl> & <dbl>\\\\\n\\hline\n\t1 & M & 1.83 & 67\\\\\n\t2 & F & 1.76 & 58\\\\\n\t3 & M & 1.82 & 66\\\\\n\t5 & M & 1.90 & 75\\\\\n\\end{tabular}\n",
            "text/plain": [
              "  Gender Height Weight\n",
              "1 M      1.83   67    \n",
              "2 F      1.76   58    \n",
              "3 M      1.82   66    \n",
              "5 M      1.90   75    "
            ]
          },
          "metadata": {}
        }
      ]
    },
    {
      "cell_type": "code",
      "source": [
        "# Información de personas y con altura mayor a 1.82 o peso mayor a 55\n",
        "# Pero solo el sexo\n",
        "base[base$Height > 1.82 | base$Weight > 55, \"Gender\"]"
      ],
      "metadata": {
        "colab": {
          "base_uri": "https://localhost:8080/",
          "height": 34
        },
        "id": "QFVtn8qAyIyO",
        "outputId": "ceea6c9e-6fbf-40f4-fa96-c6579ca05f8a"
      },
      "execution_count": null,
      "outputs": [
        {
          "output_type": "display_data",
          "data": {
            "text/html": [
              "<style>\n",
              ".list-inline {list-style: none; margin:0; padding: 0}\n",
              ".list-inline>li {display: inline-block}\n",
              ".list-inline>li:not(:last-child)::after {content: \"\\00b7\"; padding: 0 .5ex}\n",
              "</style>\n",
              "<ol class=list-inline><li>'M'</li><li>'F'</li><li>'M'</li><li>'M'</li></ol>\n"
            ],
            "text/markdown": "1. 'M'\n2. 'F'\n3. 'M'\n4. 'M'\n\n\n",
            "text/latex": "\\begin{enumerate*}\n\\item 'M'\n\\item 'F'\n\\item 'M'\n\\item 'M'\n\\end{enumerate*}\n",
            "text/plain": [
              "[1] \"M\" \"F\" \"M\" \"M\""
            ]
          },
          "metadata": {}
        }
      ]
    },
    {
      "cell_type": "code",
      "source": [
        "# Información de personas y con altura mayor a 1.82 o peso mayor a 55\n",
        "# Pero solo el sexo y la altura\n",
        "base[base$Height > 1.82 | base$Weight > 55, c(\"Gender\", \"Height\")]"
      ],
      "metadata": {
        "colab": {
          "base_uri": "https://localhost:8080/",
          "height": 224
        },
        "id": "6twUb-LCyRAc",
        "outputId": "3006d3e9-04be-4f69-cb4f-4b3ac283a741"
      },
      "execution_count": null,
      "outputs": [
        {
          "output_type": "display_data",
          "data": {
            "text/html": [
              "<table class=\"dataframe\">\n",
              "<caption>A data.frame: 4 × 2</caption>\n",
              "<thead>\n",
              "\t<tr><th></th><th scope=col>Gender</th><th scope=col>Height</th></tr>\n",
              "\t<tr><th></th><th scope=col>&lt;chr&gt;</th><th scope=col>&lt;dbl&gt;</th></tr>\n",
              "</thead>\n",
              "<tbody>\n",
              "\t<tr><th scope=row>1</th><td>M</td><td>1.83</td></tr>\n",
              "\t<tr><th scope=row>2</th><td>F</td><td>1.76</td></tr>\n",
              "\t<tr><th scope=row>3</th><td>M</td><td>1.82</td></tr>\n",
              "\t<tr><th scope=row>5</th><td>M</td><td>1.90</td></tr>\n",
              "</tbody>\n",
              "</table>\n"
            ],
            "text/markdown": "\nA data.frame: 4 × 2\n\n| <!--/--> | Gender &lt;chr&gt; | Height &lt;dbl&gt; |\n|---|---|---|\n| 1 | M | 1.83 |\n| 2 | F | 1.76 |\n| 3 | M | 1.82 |\n| 5 | M | 1.90 |\n\n",
            "text/latex": "A data.frame: 4 × 2\n\\begin{tabular}{r|ll}\n  & Gender & Height\\\\\n  & <chr> & <dbl>\\\\\n\\hline\n\t1 & M & 1.83\\\\\n\t2 & F & 1.76\\\\\n\t3 & M & 1.82\\\\\n\t5 & M & 1.90\\\\\n\\end{tabular}\n",
            "text/plain": [
              "  Gender Height\n",
              "1 M      1.83  \n",
              "2 F      1.76  \n",
              "3 M      1.82  \n",
              "5 M      1.90  "
            ]
          },
          "metadata": {}
        }
      ]
    },
    {
      "cell_type": "code",
      "source": [
        "# Igualmente sirve\n",
        "base[base$Height > 1.82 | base$Weight > 55, c(1,2)]"
      ],
      "metadata": {
        "colab": {
          "base_uri": "https://localhost:8080/",
          "height": 224
        },
        "id": "ldM94iCOyWU_",
        "outputId": "4c26207b-2f61-499a-de00-68b63269d1a0"
      },
      "execution_count": null,
      "outputs": [
        {
          "output_type": "display_data",
          "data": {
            "text/html": [
              "<table class=\"dataframe\">\n",
              "<caption>A data.frame: 4 × 2</caption>\n",
              "<thead>\n",
              "\t<tr><th></th><th scope=col>Gender</th><th scope=col>Height</th></tr>\n",
              "\t<tr><th></th><th scope=col>&lt;chr&gt;</th><th scope=col>&lt;dbl&gt;</th></tr>\n",
              "</thead>\n",
              "<tbody>\n",
              "\t<tr><th scope=row>1</th><td>M</td><td>1.83</td></tr>\n",
              "\t<tr><th scope=row>2</th><td>F</td><td>1.76</td></tr>\n",
              "\t<tr><th scope=row>3</th><td>M</td><td>1.82</td></tr>\n",
              "\t<tr><th scope=row>5</th><td>M</td><td>1.90</td></tr>\n",
              "</tbody>\n",
              "</table>\n"
            ],
            "text/markdown": "\nA data.frame: 4 × 2\n\n| <!--/--> | Gender &lt;chr&gt; | Height &lt;dbl&gt; |\n|---|---|---|\n| 1 | M | 1.83 |\n| 2 | F | 1.76 |\n| 3 | M | 1.82 |\n| 5 | M | 1.90 |\n\n",
            "text/latex": "A data.frame: 4 × 2\n\\begin{tabular}{r|ll}\n  & Gender & Height\\\\\n  & <chr> & <dbl>\\\\\n\\hline\n\t1 & M & 1.83\\\\\n\t2 & F & 1.76\\\\\n\t3 & M & 1.82\\\\\n\t5 & M & 1.90\\\\\n\\end{tabular}\n",
            "text/plain": [
              "  Gender Height\n",
              "1 M      1.83  \n",
              "2 F      1.76  \n",
              "3 M      1.82  \n",
              "5 M      1.90  "
            ]
          },
          "metadata": {}
        }
      ]
    },
    {
      "cell_type": "code",
      "source": [
        "# SI tengo muchas condiciones de un mismo valor, puedo incluirlas todas al mismo\n",
        "# de la siguiente manera\n",
        "\n",
        "# Por ejemplo, filtrar solo aquellas personas con altura 66, 58 y 75\n",
        "base[base$Weight %in% c(66,58,75),]\n",
        "\n",
        "# El comando %in% verifica si cada observación (fila) de la variable elegida\n",
        "# Esta dentro de las opciones dadas."
      ],
      "metadata": {
        "colab": {
          "base_uri": "https://localhost:8080/",
          "height": 192
        },
        "id": "oELumjnVymxF",
        "outputId": "852f1bb7-6cfc-4b57-bced-3f5bbe4adf2a"
      },
      "execution_count": null,
      "outputs": [
        {
          "output_type": "display_data",
          "data": {
            "text/html": [
              "<table class=\"dataframe\">\n",
              "<caption>A data.frame: 3 × 3</caption>\n",
              "<thead>\n",
              "\t<tr><th></th><th scope=col>Gender</th><th scope=col>Height</th><th scope=col>Weight</th></tr>\n",
              "\t<tr><th></th><th scope=col>&lt;chr&gt;</th><th scope=col>&lt;dbl&gt;</th><th scope=col>&lt;dbl&gt;</th></tr>\n",
              "</thead>\n",
              "<tbody>\n",
              "\t<tr><th scope=row>2</th><td>F</td><td>1.76</td><td>58</td></tr>\n",
              "\t<tr><th scope=row>3</th><td>M</td><td>1.82</td><td>66</td></tr>\n",
              "\t<tr><th scope=row>5</th><td>M</td><td>1.90</td><td>75</td></tr>\n",
              "</tbody>\n",
              "</table>\n"
            ],
            "text/markdown": "\nA data.frame: 3 × 3\n\n| <!--/--> | Gender &lt;chr&gt; | Height &lt;dbl&gt; | Weight &lt;dbl&gt; |\n|---|---|---|---|\n| 2 | F | 1.76 | 58 |\n| 3 | M | 1.82 | 66 |\n| 5 | M | 1.90 | 75 |\n\n",
            "text/latex": "A data.frame: 3 × 3\n\\begin{tabular}{r|lll}\n  & Gender & Height & Weight\\\\\n  & <chr> & <dbl> & <dbl>\\\\\n\\hline\n\t2 & F & 1.76 & 58\\\\\n\t3 & M & 1.82 & 66\\\\\n\t5 & M & 1.90 & 75\\\\\n\\end{tabular}\n",
            "text/plain": [
              "  Gender Height Weight\n",
              "2 F      1.76   58    \n",
              "3 M      1.82   66    \n",
              "5 M      1.90   75    "
            ]
          },
          "metadata": {}
        }
      ]
    },
    {
      "cell_type": "code",
      "source": [
        "# Es posible agregar una nueva columan en un data.frame de manera directa\n",
        "# Se debe tener cuidado en que tienen que tener la misma cantidad de observaciones\n",
        "# que las columnas ya presentes.\n",
        "\n",
        "base$Edad = c(35,21,34,66,61,18)\n",
        "base"
      ],
      "metadata": {
        "colab": {
          "base_uri": "https://localhost:8080/",
          "height": 286
        },
        "id": "NCLshc8czQ4O",
        "outputId": "f1cd0105-db30-4ed5-da9c-e00909ab7888"
      },
      "execution_count": null,
      "outputs": [
        {
          "output_type": "display_data",
          "data": {
            "text/html": [
              "<table class=\"dataframe\">\n",
              "<caption>A data.frame: 6 × 4</caption>\n",
              "<thead>\n",
              "\t<tr><th scope=col>Gender</th><th scope=col>Height</th><th scope=col>Weight</th><th scope=col>Edad</th></tr>\n",
              "\t<tr><th scope=col>&lt;chr&gt;</th><th scope=col>&lt;dbl&gt;</th><th scope=col>&lt;dbl&gt;</th><th scope=col>&lt;dbl&gt;</th></tr>\n",
              "</thead>\n",
              "<tbody>\n",
              "\t<tr><td>M</td><td>1.83</td><td>67</td><td>35</td></tr>\n",
              "\t<tr><td>F</td><td>1.76</td><td>58</td><td>21</td></tr>\n",
              "\t<tr><td>M</td><td>1.82</td><td>66</td><td>34</td></tr>\n",
              "\t<tr><td>F</td><td>1.60</td><td>48</td><td>66</td></tr>\n",
              "\t<tr><td>M</td><td>1.90</td><td>75</td><td>61</td></tr>\n",
              "\t<tr><td>F</td><td>1.66</td><td>55</td><td>18</td></tr>\n",
              "</tbody>\n",
              "</table>\n"
            ],
            "text/markdown": "\nA data.frame: 6 × 4\n\n| Gender &lt;chr&gt; | Height &lt;dbl&gt; | Weight &lt;dbl&gt; | Edad &lt;dbl&gt; |\n|---|---|---|---|\n| M | 1.83 | 67 | 35 |\n| F | 1.76 | 58 | 21 |\n| M | 1.82 | 66 | 34 |\n| F | 1.60 | 48 | 66 |\n| M | 1.90 | 75 | 61 |\n| F | 1.66 | 55 | 18 |\n\n",
            "text/latex": "A data.frame: 6 × 4\n\\begin{tabular}{llll}\n Gender & Height & Weight & Edad\\\\\n <chr> & <dbl> & <dbl> & <dbl>\\\\\n\\hline\n\t M & 1.83 & 67 & 35\\\\\n\t F & 1.76 & 58 & 21\\\\\n\t M & 1.82 & 66 & 34\\\\\n\t F & 1.60 & 48 & 66\\\\\n\t M & 1.90 & 75 & 61\\\\\n\t F & 1.66 & 55 & 18\\\\\n\\end{tabular}\n",
            "text/plain": [
              "  Gender Height Weight Edad\n",
              "1 M      1.83   67     35  \n",
              "2 F      1.76   58     21  \n",
              "3 M      1.82   66     34  \n",
              "4 F      1.60   48     66  \n",
              "5 M      1.90   75     61  \n",
              "6 F      1.66   55     18  "
            ]
          },
          "metadata": {}
        }
      ]
    },
    {
      "cell_type": "code",
      "source": [
        "# Se puede eliminar una columna al igual que en matrices\n",
        "base[,-2] # Eliminamos la columna 2"
      ],
      "metadata": {
        "colab": {
          "base_uri": "https://localhost:8080/",
          "height": 286
        },
        "id": "7uycvx29zo5K",
        "outputId": "8963c0ad-e2b2-4a10-d26d-8bc4f36121aa"
      },
      "execution_count": null,
      "outputs": [
        {
          "output_type": "display_data",
          "data": {
            "text/html": [
              "<table class=\"dataframe\">\n",
              "<caption>A data.frame: 6 × 3</caption>\n",
              "<thead>\n",
              "\t<tr><th scope=col>Gender</th><th scope=col>Weight</th><th scope=col>Edad</th></tr>\n",
              "\t<tr><th scope=col>&lt;chr&gt;</th><th scope=col>&lt;dbl&gt;</th><th scope=col>&lt;dbl&gt;</th></tr>\n",
              "</thead>\n",
              "<tbody>\n",
              "\t<tr><td>M</td><td>67</td><td>35</td></tr>\n",
              "\t<tr><td>F</td><td>58</td><td>21</td></tr>\n",
              "\t<tr><td>M</td><td>66</td><td>34</td></tr>\n",
              "\t<tr><td>F</td><td>48</td><td>66</td></tr>\n",
              "\t<tr><td>M</td><td>75</td><td>61</td></tr>\n",
              "\t<tr><td>F</td><td>55</td><td>18</td></tr>\n",
              "</tbody>\n",
              "</table>\n"
            ],
            "text/markdown": "\nA data.frame: 6 × 3\n\n| Gender &lt;chr&gt; | Weight &lt;dbl&gt; | Edad &lt;dbl&gt; |\n|---|---|---|\n| M | 67 | 35 |\n| F | 58 | 21 |\n| M | 66 | 34 |\n| F | 48 | 66 |\n| M | 75 | 61 |\n| F | 55 | 18 |\n\n",
            "text/latex": "A data.frame: 6 × 3\n\\begin{tabular}{lll}\n Gender & Weight & Edad\\\\\n <chr> & <dbl> & <dbl>\\\\\n\\hline\n\t M & 67 & 35\\\\\n\t F & 58 & 21\\\\\n\t M & 66 & 34\\\\\n\t F & 48 & 66\\\\\n\t M & 75 & 61\\\\\n\t F & 55 & 18\\\\\n\\end{tabular}\n",
            "text/plain": [
              "  Gender Weight Edad\n",
              "1 M      67     35  \n",
              "2 F      58     21  \n",
              "3 M      66     34  \n",
              "4 F      48     66  \n",
              "5 M      75     61  \n",
              "6 F      55     18  "
            ]
          },
          "metadata": {}
        }
      ]
    },
    {
      "cell_type": "markdown",
      "source": [
        "Para guardar los cambios, siempre se debe sobreescribir el objeto que se utiliza, en caso contrario, lo realizado solo se proyectará en consola (justo como el último ejemplo en el que eliminó la columna 2; si consultamos la base se verá que no ha sufrido cambios)."
      ],
      "metadata": {
        "id": "Exv_NxXlzzjL"
      }
    },
    {
      "cell_type": "code",
      "source": [
        "base"
      ],
      "metadata": {
        "colab": {
          "base_uri": "https://localhost:8080/",
          "height": 286
        },
        "id": "NyirAF7mzx8s",
        "outputId": "7673b108-3823-4f88-c6be-816d4a71aaa6"
      },
      "execution_count": null,
      "outputs": [
        {
          "output_type": "display_data",
          "data": {
            "text/html": [
              "<table class=\"dataframe\">\n",
              "<caption>A data.frame: 6 × 4</caption>\n",
              "<thead>\n",
              "\t<tr><th scope=col>Gender</th><th scope=col>Height</th><th scope=col>Weight</th><th scope=col>Edad</th></tr>\n",
              "\t<tr><th scope=col>&lt;chr&gt;</th><th scope=col>&lt;dbl&gt;</th><th scope=col>&lt;dbl&gt;</th><th scope=col>&lt;dbl&gt;</th></tr>\n",
              "</thead>\n",
              "<tbody>\n",
              "\t<tr><td>M</td><td>1.83</td><td>67</td><td>35</td></tr>\n",
              "\t<tr><td>F</td><td>1.76</td><td>58</td><td>21</td></tr>\n",
              "\t<tr><td>M</td><td>1.82</td><td>66</td><td>34</td></tr>\n",
              "\t<tr><td>F</td><td>1.60</td><td>48</td><td>66</td></tr>\n",
              "\t<tr><td>M</td><td>1.90</td><td>75</td><td>61</td></tr>\n",
              "\t<tr><td>F</td><td>1.66</td><td>55</td><td>18</td></tr>\n",
              "</tbody>\n",
              "</table>\n"
            ],
            "text/markdown": "\nA data.frame: 6 × 4\n\n| Gender &lt;chr&gt; | Height &lt;dbl&gt; | Weight &lt;dbl&gt; | Edad &lt;dbl&gt; |\n|---|---|---|---|\n| M | 1.83 | 67 | 35 |\n| F | 1.76 | 58 | 21 |\n| M | 1.82 | 66 | 34 |\n| F | 1.60 | 48 | 66 |\n| M | 1.90 | 75 | 61 |\n| F | 1.66 | 55 | 18 |\n\n",
            "text/latex": "A data.frame: 6 × 4\n\\begin{tabular}{llll}\n Gender & Height & Weight & Edad\\\\\n <chr> & <dbl> & <dbl> & <dbl>\\\\\n\\hline\n\t M & 1.83 & 67 & 35\\\\\n\t F & 1.76 & 58 & 21\\\\\n\t M & 1.82 & 66 & 34\\\\\n\t F & 1.60 & 48 & 66\\\\\n\t M & 1.90 & 75 & 61\\\\\n\t F & 1.66 & 55 & 18\\\\\n\\end{tabular}\n",
            "text/plain": [
              "  Gender Height Weight Edad\n",
              "1 M      1.83   67     35  \n",
              "2 F      1.76   58     21  \n",
              "3 M      1.82   66     34  \n",
              "4 F      1.60   48     66  \n",
              "5 M      1.90   75     61  \n",
              "6 F      1.66   55     18  "
            ]
          },
          "metadata": {}
        }
      ]
    },
    {
      "cell_type": "code",
      "source": [
        "# Es posible cambiar los nombre de la columnas\n",
        "# Podemos cambiar una en específico\n",
        "# Por ejemplo la primera\n",
        "\n",
        "colnames(base)[1] = \"Sexo\"\n",
        "base"
      ],
      "metadata": {
        "colab": {
          "base_uri": "https://localhost:8080/",
          "height": 286
        },
        "id": "paNOIzoi0nNJ",
        "outputId": "67d7a3e7-ca4c-4310-aef0-caa3aa24ef57"
      },
      "execution_count": null,
      "outputs": [
        {
          "output_type": "display_data",
          "data": {
            "text/html": [
              "<table class=\"dataframe\">\n",
              "<caption>A data.frame: 6 × 4</caption>\n",
              "<thead>\n",
              "\t<tr><th scope=col>Sexo</th><th scope=col>Height</th><th scope=col>Weight</th><th scope=col>Edad</th></tr>\n",
              "\t<tr><th scope=col>&lt;chr&gt;</th><th scope=col>&lt;dbl&gt;</th><th scope=col>&lt;dbl&gt;</th><th scope=col>&lt;dbl&gt;</th></tr>\n",
              "</thead>\n",
              "<tbody>\n",
              "\t<tr><td>M</td><td>1.83</td><td>67</td><td>35</td></tr>\n",
              "\t<tr><td>F</td><td>1.76</td><td>58</td><td>21</td></tr>\n",
              "\t<tr><td>M</td><td>1.82</td><td>66</td><td>34</td></tr>\n",
              "\t<tr><td>F</td><td>1.60</td><td>48</td><td>66</td></tr>\n",
              "\t<tr><td>M</td><td>1.90</td><td>75</td><td>61</td></tr>\n",
              "\t<tr><td>F</td><td>1.66</td><td>55</td><td>18</td></tr>\n",
              "</tbody>\n",
              "</table>\n"
            ],
            "text/markdown": "\nA data.frame: 6 × 4\n\n| Sexo &lt;chr&gt; | Height &lt;dbl&gt; | Weight &lt;dbl&gt; | Edad &lt;dbl&gt; |\n|---|---|---|---|\n| M | 1.83 | 67 | 35 |\n| F | 1.76 | 58 | 21 |\n| M | 1.82 | 66 | 34 |\n| F | 1.60 | 48 | 66 |\n| M | 1.90 | 75 | 61 |\n| F | 1.66 | 55 | 18 |\n\n",
            "text/latex": "A data.frame: 6 × 4\n\\begin{tabular}{llll}\n Sexo & Height & Weight & Edad\\\\\n <chr> & <dbl> & <dbl> & <dbl>\\\\\n\\hline\n\t M & 1.83 & 67 & 35\\\\\n\t F & 1.76 & 58 & 21\\\\\n\t M & 1.82 & 66 & 34\\\\\n\t F & 1.60 & 48 & 66\\\\\n\t M & 1.90 & 75 & 61\\\\\n\t F & 1.66 & 55 & 18\\\\\n\\end{tabular}\n",
            "text/plain": [
              "  Sexo Height Weight Edad\n",
              "1 M    1.83   67     35  \n",
              "2 F    1.76   58     21  \n",
              "3 M    1.82   66     34  \n",
              "4 F    1.60   48     66  \n",
              "5 M    1.90   75     61  \n",
              "6 F    1.66   55     18  "
            ]
          },
          "metadata": {}
        }
      ]
    },
    {
      "cell_type": "code",
      "source": [
        "# O podemos todas, dándole a R un vector con todos los nombres que debe considerar\n",
        "colnames(base) = c(\"Gender\", \"Altura\", \"Peso\", \"Age\")\n",
        "base"
      ],
      "metadata": {
        "colab": {
          "base_uri": "https://localhost:8080/",
          "height": 286
        },
        "id": "lSH_KzJj02du",
        "outputId": "562ca90b-3cc9-4f9b-8f55-4c82bd65342a"
      },
      "execution_count": null,
      "outputs": [
        {
          "output_type": "display_data",
          "data": {
            "text/html": [
              "<table class=\"dataframe\">\n",
              "<caption>A data.frame: 6 × 4</caption>\n",
              "<thead>\n",
              "\t<tr><th scope=col>Gender</th><th scope=col>Altura</th><th scope=col>Peso</th><th scope=col>Age</th></tr>\n",
              "\t<tr><th scope=col>&lt;chr&gt;</th><th scope=col>&lt;dbl&gt;</th><th scope=col>&lt;dbl&gt;</th><th scope=col>&lt;dbl&gt;</th></tr>\n",
              "</thead>\n",
              "<tbody>\n",
              "\t<tr><td>M</td><td>1.83</td><td>67</td><td>35</td></tr>\n",
              "\t<tr><td>F</td><td>1.76</td><td>58</td><td>21</td></tr>\n",
              "\t<tr><td>M</td><td>1.82</td><td>66</td><td>34</td></tr>\n",
              "\t<tr><td>F</td><td>1.60</td><td>48</td><td>66</td></tr>\n",
              "\t<tr><td>M</td><td>1.90</td><td>75</td><td>61</td></tr>\n",
              "\t<tr><td>F</td><td>1.66</td><td>55</td><td>18</td></tr>\n",
              "</tbody>\n",
              "</table>\n"
            ],
            "text/markdown": "\nA data.frame: 6 × 4\n\n| Gender &lt;chr&gt; | Altura &lt;dbl&gt; | Peso &lt;dbl&gt; | Age &lt;dbl&gt; |\n|---|---|---|---|\n| M | 1.83 | 67 | 35 |\n| F | 1.76 | 58 | 21 |\n| M | 1.82 | 66 | 34 |\n| F | 1.60 | 48 | 66 |\n| M | 1.90 | 75 | 61 |\n| F | 1.66 | 55 | 18 |\n\n",
            "text/latex": "A data.frame: 6 × 4\n\\begin{tabular}{llll}\n Gender & Altura & Peso & Age\\\\\n <chr> & <dbl> & <dbl> & <dbl>\\\\\n\\hline\n\t M & 1.83 & 67 & 35\\\\\n\t F & 1.76 & 58 & 21\\\\\n\t M & 1.82 & 66 & 34\\\\\n\t F & 1.60 & 48 & 66\\\\\n\t M & 1.90 & 75 & 61\\\\\n\t F & 1.66 & 55 & 18\\\\\n\\end{tabular}\n",
            "text/plain": [
              "  Gender Altura Peso Age\n",
              "1 M      1.83   67   35 \n",
              "2 F      1.76   58   21 \n",
              "3 M      1.82   66   34 \n",
              "4 F      1.60   48   66 \n",
              "5 M      1.90   75   61 \n",
              "6 F      1.66   55   18 "
            ]
          },
          "metadata": {}
        }
      ]
    },
    {
      "cell_type": "code",
      "source": [
        "# Es posible revisar los nombres de las columnas con el comando 'colanmes( )'\n",
        "colnames(base)"
      ],
      "metadata": {
        "colab": {
          "base_uri": "https://localhost:8080/",
          "height": 34
        },
        "id": "7ClNIPKm1IdY",
        "outputId": "0945bcaf-e991-465c-f27b-1c46d8b115fe"
      },
      "execution_count": null,
      "outputs": [
        {
          "output_type": "display_data",
          "data": {
            "text/html": [
              "<style>\n",
              ".list-inline {list-style: none; margin:0; padding: 0}\n",
              ".list-inline>li {display: inline-block}\n",
              ".list-inline>li:not(:last-child)::after {content: \"\\00b7\"; padding: 0 .5ex}\n",
              "</style>\n",
              "<ol class=list-inline><li>'Gender'</li><li>'Altura'</li><li>'Peso'</li><li>'Age'</li></ol>\n"
            ],
            "text/markdown": "1. 'Gender'\n2. 'Altura'\n3. 'Peso'\n4. 'Age'\n\n\n",
            "text/latex": "\\begin{enumerate*}\n\\item 'Gender'\n\\item 'Altura'\n\\item 'Peso'\n\\item 'Age'\n\\end{enumerate*}\n",
            "text/plain": [
              "[1] \"Gender\" \"Altura\" \"Peso\"   \"Age\"   "
            ]
          },
          "metadata": {}
        }
      ]
    },
    {
      "cell_type": "code",
      "source": [
        "# Para obtener un resumen general de los datos que hay un data frame\n",
        "# es posible usar el comando 'str( )'"
      ],
      "metadata": {
        "id": "ZYwj9Ymu8Ol9"
      },
      "execution_count": null,
      "outputs": []
    },
    {
      "cell_type": "markdown",
      "source": [
        "## Ejercicios\n",
        "\n",
        "Para este ejercicio trabajaremos con el conjunto de datos conocido como Fisher's iris data. Este conjunto nos da la medida en cm. de las variables longitud y ancho de sépalo y pétalo para un total de 150\n",
        "ores de tres especies diferentes (setosa, versicolor y virginica). Para acceder a los datos en R usaremos: data(iris).\n",
        "\n",
        "1. ¿Cuántas fi\n",
        "las y columnas posee la base de datos?\n",
        "2. ¿Qué nombre tienen las variables (columnas) en la base de datos?\n",
        "3. ¿Cuántas\n",
        "flores poseen una longitud de sépalo mayor a 5cm?\n",
        "4. ¿Cuántas\n",
        "flores poseen una longitud de pétalo menor a 5cm?\n",
        "5. ¿Cuántas\n",
        "flores poseen un pétalo más ancho que su sépalo?\n",
        "6. ¿Cuál es la longitud y ancho de pétalo máximo y mínimo registrado en la base de datos para el tipo de flor \"virginica\"?\n",
        "7. Filtre una base de datos que contenga a las especies de \"virginica\" y \"setosa\".\n",
        "7. En la base incial, convierta la columna de \"Especie\" en factor, de tal manera de que los niveles tengan el orden: setosa, versicolor y virginica."
      ],
      "metadata": {
        "id": "fc5JAH-71_2F"
      }
    },
    {
      "cell_type": "code",
      "source": [
        "# Esta base de datos está incorporada en R\n",
        "datos = iris\n",
        "colnames(datos) = c(\"LargoSepalo\", \"AnchoSepalo\", \"LargoPetalo\", \"AnchoPetalo\", \"Especie\")\n",
        "datos"
      ],
      "metadata": {
        "colab": {
          "base_uri": "https://localhost:8080/",
          "height": 1000
        },
        "id": "UPzhfjfL8KcC",
        "outputId": "1e34b8d1-20a5-4735-a20d-bd30c09f8517"
      },
      "execution_count": null,
      "outputs": [
        {
          "output_type": "display_data",
          "data": {
            "text/html": [
              "<table class=\"dataframe\">\n",
              "<caption>A data.frame: 150 × 5</caption>\n",
              "<thead>\n",
              "\t<tr><th scope=col>LargoSepalo</th><th scope=col>AnchoSepalo</th><th scope=col>LargoPetalo</th><th scope=col>AnchoPetalo</th><th scope=col>Especie</th></tr>\n",
              "\t<tr><th scope=col>&lt;dbl&gt;</th><th scope=col>&lt;dbl&gt;</th><th scope=col>&lt;dbl&gt;</th><th scope=col>&lt;dbl&gt;</th><th scope=col>&lt;fct&gt;</th></tr>\n",
              "</thead>\n",
              "<tbody>\n",
              "\t<tr><td>5.1</td><td>3.5</td><td>1.4</td><td>0.2</td><td>setosa</td></tr>\n",
              "\t<tr><td>4.9</td><td>3.0</td><td>1.4</td><td>0.2</td><td>setosa</td></tr>\n",
              "\t<tr><td>4.7</td><td>3.2</td><td>1.3</td><td>0.2</td><td>setosa</td></tr>\n",
              "\t<tr><td>4.6</td><td>3.1</td><td>1.5</td><td>0.2</td><td>setosa</td></tr>\n",
              "\t<tr><td>5.0</td><td>3.6</td><td>1.4</td><td>0.2</td><td>setosa</td></tr>\n",
              "\t<tr><td>5.4</td><td>3.9</td><td>1.7</td><td>0.4</td><td>setosa</td></tr>\n",
              "\t<tr><td>4.6</td><td>3.4</td><td>1.4</td><td>0.3</td><td>setosa</td></tr>\n",
              "\t<tr><td>5.0</td><td>3.4</td><td>1.5</td><td>0.2</td><td>setosa</td></tr>\n",
              "\t<tr><td>4.4</td><td>2.9</td><td>1.4</td><td>0.2</td><td>setosa</td></tr>\n",
              "\t<tr><td>4.9</td><td>3.1</td><td>1.5</td><td>0.1</td><td>setosa</td></tr>\n",
              "\t<tr><td>5.4</td><td>3.7</td><td>1.5</td><td>0.2</td><td>setosa</td></tr>\n",
              "\t<tr><td>4.8</td><td>3.4</td><td>1.6</td><td>0.2</td><td>setosa</td></tr>\n",
              "\t<tr><td>4.8</td><td>3.0</td><td>1.4</td><td>0.1</td><td>setosa</td></tr>\n",
              "\t<tr><td>4.3</td><td>3.0</td><td>1.1</td><td>0.1</td><td>setosa</td></tr>\n",
              "\t<tr><td>5.8</td><td>4.0</td><td>1.2</td><td>0.2</td><td>setosa</td></tr>\n",
              "\t<tr><td>5.7</td><td>4.4</td><td>1.5</td><td>0.4</td><td>setosa</td></tr>\n",
              "\t<tr><td>5.4</td><td>3.9</td><td>1.3</td><td>0.4</td><td>setosa</td></tr>\n",
              "\t<tr><td>5.1</td><td>3.5</td><td>1.4</td><td>0.3</td><td>setosa</td></tr>\n",
              "\t<tr><td>5.7</td><td>3.8</td><td>1.7</td><td>0.3</td><td>setosa</td></tr>\n",
              "\t<tr><td>5.1</td><td>3.8</td><td>1.5</td><td>0.3</td><td>setosa</td></tr>\n",
              "\t<tr><td>5.4</td><td>3.4</td><td>1.7</td><td>0.2</td><td>setosa</td></tr>\n",
              "\t<tr><td>5.1</td><td>3.7</td><td>1.5</td><td>0.4</td><td>setosa</td></tr>\n",
              "\t<tr><td>4.6</td><td>3.6</td><td>1.0</td><td>0.2</td><td>setosa</td></tr>\n",
              "\t<tr><td>5.1</td><td>3.3</td><td>1.7</td><td>0.5</td><td>setosa</td></tr>\n",
              "\t<tr><td>4.8</td><td>3.4</td><td>1.9</td><td>0.2</td><td>setosa</td></tr>\n",
              "\t<tr><td>5.0</td><td>3.0</td><td>1.6</td><td>0.2</td><td>setosa</td></tr>\n",
              "\t<tr><td>5.0</td><td>3.4</td><td>1.6</td><td>0.4</td><td>setosa</td></tr>\n",
              "\t<tr><td>5.2</td><td>3.5</td><td>1.5</td><td>0.2</td><td>setosa</td></tr>\n",
              "\t<tr><td>5.2</td><td>3.4</td><td>1.4</td><td>0.2</td><td>setosa</td></tr>\n",
              "\t<tr><td>4.7</td><td>3.2</td><td>1.6</td><td>0.2</td><td>setosa</td></tr>\n",
              "\t<tr><td>⋮</td><td>⋮</td><td>⋮</td><td>⋮</td><td>⋮</td></tr>\n",
              "\t<tr><td>6.9</td><td>3.2</td><td>5.7</td><td>2.3</td><td>virginica</td></tr>\n",
              "\t<tr><td>5.6</td><td>2.8</td><td>4.9</td><td>2.0</td><td>virginica</td></tr>\n",
              "\t<tr><td>7.7</td><td>2.8</td><td>6.7</td><td>2.0</td><td>virginica</td></tr>\n",
              "\t<tr><td>6.3</td><td>2.7</td><td>4.9</td><td>1.8</td><td>virginica</td></tr>\n",
              "\t<tr><td>6.7</td><td>3.3</td><td>5.7</td><td>2.1</td><td>virginica</td></tr>\n",
              "\t<tr><td>7.2</td><td>3.2</td><td>6.0</td><td>1.8</td><td>virginica</td></tr>\n",
              "\t<tr><td>6.2</td><td>2.8</td><td>4.8</td><td>1.8</td><td>virginica</td></tr>\n",
              "\t<tr><td>6.1</td><td>3.0</td><td>4.9</td><td>1.8</td><td>virginica</td></tr>\n",
              "\t<tr><td>6.4</td><td>2.8</td><td>5.6</td><td>2.1</td><td>virginica</td></tr>\n",
              "\t<tr><td>7.2</td><td>3.0</td><td>5.8</td><td>1.6</td><td>virginica</td></tr>\n",
              "\t<tr><td>7.4</td><td>2.8</td><td>6.1</td><td>1.9</td><td>virginica</td></tr>\n",
              "\t<tr><td>7.9</td><td>3.8</td><td>6.4</td><td>2.0</td><td>virginica</td></tr>\n",
              "\t<tr><td>6.4</td><td>2.8</td><td>5.6</td><td>2.2</td><td>virginica</td></tr>\n",
              "\t<tr><td>6.3</td><td>2.8</td><td>5.1</td><td>1.5</td><td>virginica</td></tr>\n",
              "\t<tr><td>6.1</td><td>2.6</td><td>5.6</td><td>1.4</td><td>virginica</td></tr>\n",
              "\t<tr><td>7.7</td><td>3.0</td><td>6.1</td><td>2.3</td><td>virginica</td></tr>\n",
              "\t<tr><td>6.3</td><td>3.4</td><td>5.6</td><td>2.4</td><td>virginica</td></tr>\n",
              "\t<tr><td>6.4</td><td>3.1</td><td>5.5</td><td>1.8</td><td>virginica</td></tr>\n",
              "\t<tr><td>6.0</td><td>3.0</td><td>4.8</td><td>1.8</td><td>virginica</td></tr>\n",
              "\t<tr><td>6.9</td><td>3.1</td><td>5.4</td><td>2.1</td><td>virginica</td></tr>\n",
              "\t<tr><td>6.7</td><td>3.1</td><td>5.6</td><td>2.4</td><td>virginica</td></tr>\n",
              "\t<tr><td>6.9</td><td>3.1</td><td>5.1</td><td>2.3</td><td>virginica</td></tr>\n",
              "\t<tr><td>5.8</td><td>2.7</td><td>5.1</td><td>1.9</td><td>virginica</td></tr>\n",
              "\t<tr><td>6.8</td><td>3.2</td><td>5.9</td><td>2.3</td><td>virginica</td></tr>\n",
              "\t<tr><td>6.7</td><td>3.3</td><td>5.7</td><td>2.5</td><td>virginica</td></tr>\n",
              "\t<tr><td>6.7</td><td>3.0</td><td>5.2</td><td>2.3</td><td>virginica</td></tr>\n",
              "\t<tr><td>6.3</td><td>2.5</td><td>5.0</td><td>1.9</td><td>virginica</td></tr>\n",
              "\t<tr><td>6.5</td><td>3.0</td><td>5.2</td><td>2.0</td><td>virginica</td></tr>\n",
              "\t<tr><td>6.2</td><td>3.4</td><td>5.4</td><td>2.3</td><td>virginica</td></tr>\n",
              "\t<tr><td>5.9</td><td>3.0</td><td>5.1</td><td>1.8</td><td>virginica</td></tr>\n",
              "</tbody>\n",
              "</table>\n"
            ],
            "text/markdown": "\nA data.frame: 150 × 5\n\n| LargoSepalo &lt;dbl&gt; | AnchoSepalo &lt;dbl&gt; | LargoPetalo &lt;dbl&gt; | AnchoPetalo &lt;dbl&gt; | Especie &lt;fct&gt; |\n|---|---|---|---|---|\n| 5.1 | 3.5 | 1.4 | 0.2 | setosa |\n| 4.9 | 3.0 | 1.4 | 0.2 | setosa |\n| 4.7 | 3.2 | 1.3 | 0.2 | setosa |\n| 4.6 | 3.1 | 1.5 | 0.2 | setosa |\n| 5.0 | 3.6 | 1.4 | 0.2 | setosa |\n| 5.4 | 3.9 | 1.7 | 0.4 | setosa |\n| 4.6 | 3.4 | 1.4 | 0.3 | setosa |\n| 5.0 | 3.4 | 1.5 | 0.2 | setosa |\n| 4.4 | 2.9 | 1.4 | 0.2 | setosa |\n| 4.9 | 3.1 | 1.5 | 0.1 | setosa |\n| 5.4 | 3.7 | 1.5 | 0.2 | setosa |\n| 4.8 | 3.4 | 1.6 | 0.2 | setosa |\n| 4.8 | 3.0 | 1.4 | 0.1 | setosa |\n| 4.3 | 3.0 | 1.1 | 0.1 | setosa |\n| 5.8 | 4.0 | 1.2 | 0.2 | setosa |\n| 5.7 | 4.4 | 1.5 | 0.4 | setosa |\n| 5.4 | 3.9 | 1.3 | 0.4 | setosa |\n| 5.1 | 3.5 | 1.4 | 0.3 | setosa |\n| 5.7 | 3.8 | 1.7 | 0.3 | setosa |\n| 5.1 | 3.8 | 1.5 | 0.3 | setosa |\n| 5.4 | 3.4 | 1.7 | 0.2 | setosa |\n| 5.1 | 3.7 | 1.5 | 0.4 | setosa |\n| 4.6 | 3.6 | 1.0 | 0.2 | setosa |\n| 5.1 | 3.3 | 1.7 | 0.5 | setosa |\n| 4.8 | 3.4 | 1.9 | 0.2 | setosa |\n| 5.0 | 3.0 | 1.6 | 0.2 | setosa |\n| 5.0 | 3.4 | 1.6 | 0.4 | setosa |\n| 5.2 | 3.5 | 1.5 | 0.2 | setosa |\n| 5.2 | 3.4 | 1.4 | 0.2 | setosa |\n| 4.7 | 3.2 | 1.6 | 0.2 | setosa |\n| ⋮ | ⋮ | ⋮ | ⋮ | ⋮ |\n| 6.9 | 3.2 | 5.7 | 2.3 | virginica |\n| 5.6 | 2.8 | 4.9 | 2.0 | virginica |\n| 7.7 | 2.8 | 6.7 | 2.0 | virginica |\n| 6.3 | 2.7 | 4.9 | 1.8 | virginica |\n| 6.7 | 3.3 | 5.7 | 2.1 | virginica |\n| 7.2 | 3.2 | 6.0 | 1.8 | virginica |\n| 6.2 | 2.8 | 4.8 | 1.8 | virginica |\n| 6.1 | 3.0 | 4.9 | 1.8 | virginica |\n| 6.4 | 2.8 | 5.6 | 2.1 | virginica |\n| 7.2 | 3.0 | 5.8 | 1.6 | virginica |\n| 7.4 | 2.8 | 6.1 | 1.9 | virginica |\n| 7.9 | 3.8 | 6.4 | 2.0 | virginica |\n| 6.4 | 2.8 | 5.6 | 2.2 | virginica |\n| 6.3 | 2.8 | 5.1 | 1.5 | virginica |\n| 6.1 | 2.6 | 5.6 | 1.4 | virginica |\n| 7.7 | 3.0 | 6.1 | 2.3 | virginica |\n| 6.3 | 3.4 | 5.6 | 2.4 | virginica |\n| 6.4 | 3.1 | 5.5 | 1.8 | virginica |\n| 6.0 | 3.0 | 4.8 | 1.8 | virginica |\n| 6.9 | 3.1 | 5.4 | 2.1 | virginica |\n| 6.7 | 3.1 | 5.6 | 2.4 | virginica |\n| 6.9 | 3.1 | 5.1 | 2.3 | virginica |\n| 5.8 | 2.7 | 5.1 | 1.9 | virginica |\n| 6.8 | 3.2 | 5.9 | 2.3 | virginica |\n| 6.7 | 3.3 | 5.7 | 2.5 | virginica |\n| 6.7 | 3.0 | 5.2 | 2.3 | virginica |\n| 6.3 | 2.5 | 5.0 | 1.9 | virginica |\n| 6.5 | 3.0 | 5.2 | 2.0 | virginica |\n| 6.2 | 3.4 | 5.4 | 2.3 | virginica |\n| 5.9 | 3.0 | 5.1 | 1.8 | virginica |\n\n",
            "text/latex": "A data.frame: 150 × 5\n\\begin{tabular}{lllll}\n LargoSepalo & AnchoSepalo & LargoPetalo & AnchoPetalo & Especie\\\\\n <dbl> & <dbl> & <dbl> & <dbl> & <fct>\\\\\n\\hline\n\t 5.1 & 3.5 & 1.4 & 0.2 & setosa\\\\\n\t 4.9 & 3.0 & 1.4 & 0.2 & setosa\\\\\n\t 4.7 & 3.2 & 1.3 & 0.2 & setosa\\\\\n\t 4.6 & 3.1 & 1.5 & 0.2 & setosa\\\\\n\t 5.0 & 3.6 & 1.4 & 0.2 & setosa\\\\\n\t 5.4 & 3.9 & 1.7 & 0.4 & setosa\\\\\n\t 4.6 & 3.4 & 1.4 & 0.3 & setosa\\\\\n\t 5.0 & 3.4 & 1.5 & 0.2 & setosa\\\\\n\t 4.4 & 2.9 & 1.4 & 0.2 & setosa\\\\\n\t 4.9 & 3.1 & 1.5 & 0.1 & setosa\\\\\n\t 5.4 & 3.7 & 1.5 & 0.2 & setosa\\\\\n\t 4.8 & 3.4 & 1.6 & 0.2 & setosa\\\\\n\t 4.8 & 3.0 & 1.4 & 0.1 & setosa\\\\\n\t 4.3 & 3.0 & 1.1 & 0.1 & setosa\\\\\n\t 5.8 & 4.0 & 1.2 & 0.2 & setosa\\\\\n\t 5.7 & 4.4 & 1.5 & 0.4 & setosa\\\\\n\t 5.4 & 3.9 & 1.3 & 0.4 & setosa\\\\\n\t 5.1 & 3.5 & 1.4 & 0.3 & setosa\\\\\n\t 5.7 & 3.8 & 1.7 & 0.3 & setosa\\\\\n\t 5.1 & 3.8 & 1.5 & 0.3 & setosa\\\\\n\t 5.4 & 3.4 & 1.7 & 0.2 & setosa\\\\\n\t 5.1 & 3.7 & 1.5 & 0.4 & setosa\\\\\n\t 4.6 & 3.6 & 1.0 & 0.2 & setosa\\\\\n\t 5.1 & 3.3 & 1.7 & 0.5 & setosa\\\\\n\t 4.8 & 3.4 & 1.9 & 0.2 & setosa\\\\\n\t 5.0 & 3.0 & 1.6 & 0.2 & setosa\\\\\n\t 5.0 & 3.4 & 1.6 & 0.4 & setosa\\\\\n\t 5.2 & 3.5 & 1.5 & 0.2 & setosa\\\\\n\t 5.2 & 3.4 & 1.4 & 0.2 & setosa\\\\\n\t 4.7 & 3.2 & 1.6 & 0.2 & setosa\\\\\n\t ⋮ & ⋮ & ⋮ & ⋮ & ⋮\\\\\n\t 6.9 & 3.2 & 5.7 & 2.3 & virginica\\\\\n\t 5.6 & 2.8 & 4.9 & 2.0 & virginica\\\\\n\t 7.7 & 2.8 & 6.7 & 2.0 & virginica\\\\\n\t 6.3 & 2.7 & 4.9 & 1.8 & virginica\\\\\n\t 6.7 & 3.3 & 5.7 & 2.1 & virginica\\\\\n\t 7.2 & 3.2 & 6.0 & 1.8 & virginica\\\\\n\t 6.2 & 2.8 & 4.8 & 1.8 & virginica\\\\\n\t 6.1 & 3.0 & 4.9 & 1.8 & virginica\\\\\n\t 6.4 & 2.8 & 5.6 & 2.1 & virginica\\\\\n\t 7.2 & 3.0 & 5.8 & 1.6 & virginica\\\\\n\t 7.4 & 2.8 & 6.1 & 1.9 & virginica\\\\\n\t 7.9 & 3.8 & 6.4 & 2.0 & virginica\\\\\n\t 6.4 & 2.8 & 5.6 & 2.2 & virginica\\\\\n\t 6.3 & 2.8 & 5.1 & 1.5 & virginica\\\\\n\t 6.1 & 2.6 & 5.6 & 1.4 & virginica\\\\\n\t 7.7 & 3.0 & 6.1 & 2.3 & virginica\\\\\n\t 6.3 & 3.4 & 5.6 & 2.4 & virginica\\\\\n\t 6.4 & 3.1 & 5.5 & 1.8 & virginica\\\\\n\t 6.0 & 3.0 & 4.8 & 1.8 & virginica\\\\\n\t 6.9 & 3.1 & 5.4 & 2.1 & virginica\\\\\n\t 6.7 & 3.1 & 5.6 & 2.4 & virginica\\\\\n\t 6.9 & 3.1 & 5.1 & 2.3 & virginica\\\\\n\t 5.8 & 2.7 & 5.1 & 1.9 & virginica\\\\\n\t 6.8 & 3.2 & 5.9 & 2.3 & virginica\\\\\n\t 6.7 & 3.3 & 5.7 & 2.5 & virginica\\\\\n\t 6.7 & 3.0 & 5.2 & 2.3 & virginica\\\\\n\t 6.3 & 2.5 & 5.0 & 1.9 & virginica\\\\\n\t 6.5 & 3.0 & 5.2 & 2.0 & virginica\\\\\n\t 6.2 & 3.4 & 5.4 & 2.3 & virginica\\\\\n\t 5.9 & 3.0 & 5.1 & 1.8 & virginica\\\\\n\\end{tabular}\n",
            "text/plain": [
              "    LargoSepalo AnchoSepalo LargoPetalo AnchoPetalo Especie  \n",
              "1   5.1         3.5         1.4         0.2         setosa   \n",
              "2   4.9         3.0         1.4         0.2         setosa   \n",
              "3   4.7         3.2         1.3         0.2         setosa   \n",
              "4   4.6         3.1         1.5         0.2         setosa   \n",
              "5   5.0         3.6         1.4         0.2         setosa   \n",
              "6   5.4         3.9         1.7         0.4         setosa   \n",
              "7   4.6         3.4         1.4         0.3         setosa   \n",
              "8   5.0         3.4         1.5         0.2         setosa   \n",
              "9   4.4         2.9         1.4         0.2         setosa   \n",
              "10  4.9         3.1         1.5         0.1         setosa   \n",
              "11  5.4         3.7         1.5         0.2         setosa   \n",
              "12  4.8         3.4         1.6         0.2         setosa   \n",
              "13  4.8         3.0         1.4         0.1         setosa   \n",
              "14  4.3         3.0         1.1         0.1         setosa   \n",
              "15  5.8         4.0         1.2         0.2         setosa   \n",
              "16  5.7         4.4         1.5         0.4         setosa   \n",
              "17  5.4         3.9         1.3         0.4         setosa   \n",
              "18  5.1         3.5         1.4         0.3         setosa   \n",
              "19  5.7         3.8         1.7         0.3         setosa   \n",
              "20  5.1         3.8         1.5         0.3         setosa   \n",
              "21  5.4         3.4         1.7         0.2         setosa   \n",
              "22  5.1         3.7         1.5         0.4         setosa   \n",
              "23  4.6         3.6         1.0         0.2         setosa   \n",
              "24  5.1         3.3         1.7         0.5         setosa   \n",
              "25  4.8         3.4         1.9         0.2         setosa   \n",
              "26  5.0         3.0         1.6         0.2         setosa   \n",
              "27  5.0         3.4         1.6         0.4         setosa   \n",
              "28  5.2         3.5         1.5         0.2         setosa   \n",
              "29  5.2         3.4         1.4         0.2         setosa   \n",
              "30  4.7         3.2         1.6         0.2         setosa   \n",
              "⋮   ⋮           ⋮           ⋮           ⋮           ⋮        \n",
              "121 6.9         3.2         5.7         2.3         virginica\n",
              "122 5.6         2.8         4.9         2.0         virginica\n",
              "123 7.7         2.8         6.7         2.0         virginica\n",
              "124 6.3         2.7         4.9         1.8         virginica\n",
              "125 6.7         3.3         5.7         2.1         virginica\n",
              "126 7.2         3.2         6.0         1.8         virginica\n",
              "127 6.2         2.8         4.8         1.8         virginica\n",
              "128 6.1         3.0         4.9         1.8         virginica\n",
              "129 6.4         2.8         5.6         2.1         virginica\n",
              "130 7.2         3.0         5.8         1.6         virginica\n",
              "131 7.4         2.8         6.1         1.9         virginica\n",
              "132 7.9         3.8         6.4         2.0         virginica\n",
              "133 6.4         2.8         5.6         2.2         virginica\n",
              "134 6.3         2.8         5.1         1.5         virginica\n",
              "135 6.1         2.6         5.6         1.4         virginica\n",
              "136 7.7         3.0         6.1         2.3         virginica\n",
              "137 6.3         3.4         5.6         2.4         virginica\n",
              "138 6.4         3.1         5.5         1.8         virginica\n",
              "139 6.0         3.0         4.8         1.8         virginica\n",
              "140 6.9         3.1         5.4         2.1         virginica\n",
              "141 6.7         3.1         5.6         2.4         virginica\n",
              "142 6.9         3.1         5.1         2.3         virginica\n",
              "143 5.8         2.7         5.1         1.9         virginica\n",
              "144 6.8         3.2         5.9         2.3         virginica\n",
              "145 6.7         3.3         5.7         2.5         virginica\n",
              "146 6.7         3.0         5.2         2.3         virginica\n",
              "147 6.3         2.5         5.0         1.9         virginica\n",
              "148 6.5         3.0         5.2         2.0         virginica\n",
              "149 6.2         3.4         5.4         2.3         virginica\n",
              "150 5.9         3.0         5.1         1.8         virginica"
            ]
          },
          "metadata": {}
        }
      ]
    }
  ]
}